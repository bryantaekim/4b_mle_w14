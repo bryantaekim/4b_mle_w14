{
  "cells": [
    {
      "cell_type": "markdown",
      "metadata": {
        "id": "-zEhmL9rDA7A"
      },
      "source": [
        "<p align = \"center\" draggable=”false” ><img src=\"https://user-images.githubusercontent.com/37101144/161836199-fdb0219d-0361-4988-bf26-48b0fad160a3.png\" \n",
        "     width=\"200px\"\n",
        "     height=\"auto\"/>\n",
        "</p>"
      ]
    },
    {
      "cell_type": "markdown",
      "metadata": {
        "id": "3v98DUJvDA7K"
      },
      "source": [
        "# Reddit and HuggingFace Starter Kit"
      ]
    },
    {
      "cell_type": "markdown",
      "metadata": {
        "id": "0VhaENOpDA7L"
      },
      "source": [
        "In this live coding session, we leverage the Python Reddit API Wrapper (`PRAW`) to retrieve data from subreddits on [Reddit](https://www.reddit.com), and perform sentiment analysis using [`pipelines`](https://huggingface.co/docs/transformers/main_classes/pipelines) from [HuggingFace ( 🤗 the GitHub of Machine Learning )](https://techcrunch.com/2022/05/09/hugging-face-reaches-2-billion-valuation-to-build-the-github-of-machine-learning/), powered by [transformer](https://arxiv.org/pdf/1706.03762.pdf)."
      ]
    },
    {
      "cell_type": "markdown",
      "metadata": {
        "id": "t7K0um39DA7M"
      },
      "source": [
        "## Objectives"
      ]
    },
    {
      "cell_type": "markdown",
      "metadata": {
        "id": "1ADQB6z3DA7N"
      },
      "source": [
        "At the end of the session, you will "
      ]
    },
    {
      "cell_type": "markdown",
      "metadata": {
        "id": "3PA56E03DA7O"
      },
      "source": [
        "- know how to work with APIs\n",
        "- feel more comfortable navigating thru documentation, even inspecting the source code\n",
        "- understand what a `pipeline` object is in HuggingFace\n",
        "- perform sentiment analysis using `pipeline`\n",
        "- run a python script in command line and get the results"
      ]
    },
    {
      "cell_type": "markdown",
      "metadata": {
        "heading_collapsed": true,
        "id": "TdGvCp48DA7P"
      },
      "source": [
        "## How to Submit"
      ]
    },
    {
      "cell_type": "markdown",
      "metadata": {
        "hidden": true,
        "id": "c4EpAou9DA7R"
      },
      "source": [
        "- At the end of each task, commit* the work into your own remote repo\n",
        "- After completing all three tasks, make sure to push the notebook containing all code blocks and output cells to your remote repo\n",
        "- Submit the link to the notebook in Canvas"
      ]
    },
    {
      "cell_type": "markdown",
      "metadata": {
        "hidden": true,
        "id": "VFb_BRd3DA7T"
      },
      "source": [
        "\\***NEVER** commit a notebook displaying errors unless it is instructed otherwise. However, commit often; recall git ABC = **A**lways **B**e **C**ommitting."
      ]
    },
    {
      "cell_type": "markdown",
      "metadata": {
        "id": "uuaW8hl2DA7U"
      },
      "source": [
        "## Tasks"
      ]
    },
    {
      "cell_type": "markdown",
      "metadata": {
        "heading_collapsed": true,
        "id": "wqfVblqjDA7W"
      },
      "source": [
        "### Task I: Instantiate a Reddit API Object"
      ]
    },
    {
      "cell_type": "markdown",
      "metadata": {
        "hidden": true,
        "id": "-E65HDkxDA7X"
      },
      "source": [
        "The first task is to instantiate a Reddit API object using [PRAW](https://praw.readthedocs.io/en/stable/), through which you will retrieve data. PRAW is a wrapper for [Reddit API](https://www.reddit.com/dev/api) that makes interacting with the Reddit API easier unless you are already an expert of [`requests`](https://docs.python-requests.org/en/latest/)."
      ]
    },
    {
      "cell_type": "markdown",
      "metadata": {
        "hidden": true,
        "id": "_sC-QDBgDA7X"
      },
      "source": [
        "#### 0.  Get updates from `FourthBrain/MLE-7`"
      ]
    },
    {
      "cell_type": "markdown",
      "metadata": {
        "hidden": true,
        "id": "n47Xypf3DA7Y"
      },
      "source": [
        "Under your forked local repo, **fetch** and download new updates from repo `FourthBrain/MLE-7` locally so you can start development. \n",
        "    \n",
        "<details>\n",
        "<summary>If you haven't added `FourthBrain/MLE-7` as a remote repo, click here for instructions:</summary>   \n",
        "You fork repo `FourthBrain/MLE-7` to `yourhandle/MLE-7`, clone it locally, and now you are under directory `MLE-7`. By default, you will see one server name `origin` pointing to your repo:  \n",
        "    \n",
        "```\n",
        "$git remote -v \n",
        "origin  git@github.com:yourhandle/MLE-7.git (fetch)\n",
        "origin  git@github.com:yourhandle/MLE-7.git (push)\n",
        "```\n",
        "\n",
        "Think of fetch = read and push = write. \n",
        "\n",
        "Now add `FourthBrain/MLE-7` as a remote repo\n",
        "\n",
        "```\n",
        "$git add remote fourthbrain git@github.com:FourthBrain/MLE-7.git\n",
        "$git remote -v\n",
        "fourthbrain\tgit@github.com:FourthBrain/MLE-7.git (fetch)\n",
        "fourthbrain\tgit@github.com:FourthBrain/MLE-7.git (push)\n",
        "origin git@github.com:yourhandle/MLE-7.git (fetch)\n",
        "origin git@github.com:yourhandle/MLE-7.git (push)\n",
        "```\n",
        "\n",
        "then before each session starts, run `git fetch fourthbrain` to get updates (why not `git pull`?).\n",
        "\n",
        "check out [Working with Remotes](https://git-scm.com/book/en/v2/Git-Basics-Working-with-Remotes) for more explanations.\n",
        "</details>"
      ]
    },
    {
      "cell_type": "markdown",
      "metadata": {
        "hidden": true,
        "id": "IQW8f5D6DA7a"
      },
      "source": [
        "#### 1. Install packages"
      ]
    },
    {
      "cell_type": "markdown",
      "metadata": {
        "hidden": true,
        "id": "a1OdZipiDA7a"
      },
      "source": [
        "```\n",
        "conda activate {your_virtual_environment_name}\n",
        "pip install -U transformers praw torch numpy pandas\n",
        "```"
      ]
    },
    {
      "cell_type": "markdown",
      "metadata": {
        "hidden": true,
        "id": "x6NEgkDLDA7b"
      },
      "source": [
        "####  2. Create a new app on Reddit "
      ]
    },
    {
      "cell_type": "markdown",
      "metadata": {
        "hidden": true,
        "id": "9pbpm6tUDA7b"
      },
      "source": [
        "Create a new app on Reddit and save secret tokens; refer to [post in medium](https://towardsdatascience.com/how-to-use-the-reddit-api-in-python-5e05ddfd1e5c) for more details."
      ]
    },
    {
      "cell_type": "markdown",
      "metadata": {
        "hidden": true,
        "id": "-iXYRjFoDA7c"
      },
      "source": [
        "- Create a Reddit account if you don't have one, log into your account.\n",
        "- To access the API, we need create an app. Slight updates, on the website, you need to navigate to `preference` > `app`, or click [this link](https://www.reddit.com/prefs/apps) and scroll all the way down. \n",
        "- Click to create a new app, fill in the **name**, choose `script`, fill in  **description** and **redirect url** ( The redirect URI is where the user is sent after they've granted OAuth access to your application; more info [here](and details are in [](https://github.com/reddit-archive/reddit/wiki/OAuth2) for our purpose, you can enter some random url, e.g., www.google.com; ) as shown below.\n",
        "    <div>\n",
        "    <img src=\"./img/reddit_create_app.png\" width=\"500\"/>\n",
        "    </div>   \n",
        "- Jolt down `client_id` (left upper corner) and `client_secret` \n",
        "    <div>\n",
        "    <img src=\"./img/reddit_secret_tokens.png\" width=\"300\"/>\n",
        "    </div>\n",
        "\n",
        "- Create `secrets.py` in the same directory with this notebook, fill in `client_id` and `secret_id` obtained from the last step. We will need to import those constants in the next step.\n",
        "    ```\n",
        "    REDDIT_API_CLIENT_ID = {client_id}\n",
        "    REDDIT_API_CLIENT_SECRET = {secret_id}\n",
        "    REDDIT_API_USER_AGENT = {can_be_any_string, e.g., : \"BotBot\"}\n",
        "    ```\n",
        "- Add `secrets.py` to your `.gitignore` file if not already done. NEVER push credentials to a repo, private or public. "
      ]
    },
    {
      "cell_type": "markdown",
      "metadata": {
        "hidden": true,
        "id": "uZL0rWwdDA7d"
      },
      "source": [
        "#### 3. Instantiate a `Reddit` object"
      ]
    },
    {
      "cell_type": "code",
      "execution_count": 66,
      "metadata": {
        "hidden": true,
        "id": "FW-eYDZ7DA7f"
      },
      "outputs": [],
      "source": [
        "#!pip install -U transformers praw torch numpy pandas\n",
        "import praw\n",
        "import secrets\n",
        "\n",
        "# Create a Reddit object which allows us to interact with the Reddit API\n",
        "reddit = praw.Reddit(\n",
        "    client_id=\"BLp8-IUqARyiY2BlBQ2iEA\",\n",
        "    client_secret=\"WUR2iazF9nnZiTi81gj_1DyADmo3-g\",\n",
        "    user_agent=\"fb_week14_bk\"\n",
        ")"
      ]
    },
    {
      "cell_type": "code",
      "execution_count": 67,
      "metadata": {
        "hidden": true,
        "id": "8VpTcfCtDA7h",
        "colab": {
          "base_uri": "https://localhost:8080/"
        },
        "outputId": "ba4e43c1-6dfb-4d56-b96b-f8fc4c916145"
      },
      "outputs": [
        {
          "output_type": "stream",
          "name": "stdout",
          "text": [
            "<praw.reddit.Reddit object at 0x7f4b87c4a490>\n"
          ]
        }
      ],
      "source": [
        "print(reddit) "
      ]
    },
    {
      "cell_type": "markdown",
      "metadata": {
        "id": "YEbDWk9nDA7i"
      },
      "source": [
        "<details>\n",
        "<summary>Expected output:</summary>   \n",
        "\n",
        "```<praw.reddit.Reddit object at 0x10f8a0ac0>```\n",
        "</details>"
      ]
    },
    {
      "cell_type": "markdown",
      "metadata": {
        "hidden": true,
        "id": "qqS7wxRTDA7i"
      },
      "source": [
        "#### 4. Instantiate a `subreddit` object"
      ]
    },
    {
      "cell_type": "markdown",
      "metadata": {
        "hidden": true,
        "id": "I_zJC3FTDA7i"
      },
      "source": [
        "Lastly, create a `subreddit` object for your favorite subreddit and inspect the object. The expected output you will see ar from `r/machinelearning` unless otherwise specified."
      ]
    },
    {
      "cell_type": "code",
      "execution_count": 68,
      "metadata": {
        "hidden": true,
        "id": "TiNyh8UDDA7j"
      },
      "outputs": [],
      "source": [
        "# YOUR CODE HERE\n",
        "subreddit = reddit.subreddit(display_name='machinelearning')"
      ]
    },
    {
      "cell_type": "markdown",
      "metadata": {
        "hidden": true,
        "id": "gGgWomn_DA7j"
      },
      "source": [
        "What is the display name of the subreddit?"
      ]
    },
    {
      "cell_type": "code",
      "execution_count": 69,
      "metadata": {
        "hidden": true,
        "id": "184svFIwDA7k",
        "colab": {
          "base_uri": "https://localhost:8080/"
        },
        "outputId": "07873858-2053-404d-f4a7-b565cf0c06dc"
      },
      "outputs": [
        {
          "output_type": "stream",
          "name": "stdout",
          "text": [
            "machinelearning\n"
          ]
        }
      ],
      "source": [
        "# YOUR CODE HERE\n",
        "print(subreddit.display_name)"
      ]
    },
    {
      "cell_type": "markdown",
      "metadata": {
        "id": "uWxzzDJRDA7k"
      },
      "source": [
        "<details>\n",
        "<summary>Expected output:</summary>   \n",
        "\n",
        "    machinelearning\n",
        "</details>"
      ]
    },
    {
      "cell_type": "markdown",
      "metadata": {
        "hidden": true,
        "id": "ubFePeIODA7k"
      },
      "source": [
        "How about its title, is it different from the display name?"
      ]
    },
    {
      "cell_type": "code",
      "execution_count": 70,
      "metadata": {
        "hidden": true,
        "id": "inHLfVCzDA7l",
        "colab": {
          "base_uri": "https://localhost:8080/",
          "height": 105
        },
        "outputId": "8c5cef2c-069e-4dc7-abce-7a2dd695acb9"
      },
      "outputs": [
        {
          "output_type": "stream",
          "name": "stderr",
          "text": [
            "It appears that you are using PRAW in an asynchronous environment.\n",
            "It is strongly recommended to use Async PRAW: https://asyncpraw.readthedocs.io.\n",
            "See https://praw.readthedocs.io/en/latest/getting_started/multiple_instances.html#discord-bots-and-asynchronous-environments for more info.\n",
            "\n"
          ]
        },
        {
          "output_type": "execute_result",
          "data": {
            "text/plain": [
              "'Machine Learning'"
            ],
            "application/vnd.google.colaboratory.intrinsic+json": {
              "type": "string"
            }
          },
          "metadata": {},
          "execution_count": 70
        }
      ],
      "source": [
        "# YOUR CODE HERE\n",
        "subreddit.title"
      ]
    },
    {
      "cell_type": "markdown",
      "metadata": {
        "id": "sFAC6BLoDA7l"
      },
      "source": [
        "<details>\n",
        "<summary>Expected output:</summary>   \n",
        "\n",
        "    Machine Learning\n",
        "</details>"
      ]
    },
    {
      "cell_type": "markdown",
      "metadata": {
        "hidden": true,
        "id": "2hdgEpBlDA7l"
      },
      "source": [
        "Print out the description of the subreddit:"
      ]
    },
    {
      "cell_type": "code",
      "execution_count": 75,
      "metadata": {
        "hidden": true,
        "scrolled": false,
        "id": "yQLM1CCJDA7m",
        "colab": {
          "base_uri": "https://localhost:8080/"
        },
        "outputId": "3ee63250-ebf6-42c7-da2e-8b5697981304"
      },
      "outputs": [
        {
          "output_type": "stream",
          "name": "stdout",
          "text": [
            "**[Rules For Posts](https://www.reddit.com/r/MachineLearning/about/rules/)**\n",
            "--------\n",
            "+[Research](https://www.reddit.com/r/MachineLearning/search?sort=new&restrict_sr=on&q=flair%3AResearch)\n",
            "--------\n",
            "+[Discussion](https://www.reddit.com/r/MachineLearning/search?sort=new&restrict_sr=on&q=flair%3ADiscussion)\n",
            "--------\n",
            "+[Project](https://www.reddit.com/r/MachineLearning/search?sort=new&restrict_sr=on&q=flair%3AProject)\n",
            "--------\n",
            "+[News](https://www.reddit.com/r/MachineLearning/search?sort=new&restrict\n"
          ]
        }
      ],
      "source": [
        "# YOUR CODE HERE\n",
        "print(subreddit.description[:500])"
      ]
    },
    {
      "cell_type": "markdown",
      "metadata": {
        "id": "8lQ8rU91DA7m"
      },
      "source": [
        "<details>\n",
        "<summary>Expected output:</summary>\n",
        "\n",
        "    **[Rules For Posts](https://www.reddit.com/r/MachineLearning/about/rules/)**\n",
        "    --------\n",
        "    +[Research](https://www.reddit.com/r/MachineLearning/search?sort=new&restrict_sr=on&q=flair%3AResearch)\n",
        "    --------\n",
        "    +[Discussion](https://www.reddit.com/r/MachineLearning/search?sort=new&restrict_sr=on&q=flair%3ADiscussion)\n",
        "    --------\n",
        "    +[Project](https://www.reddit.com/r/MachineLearning/search?sort=new&restrict_sr=on&q=flair%3AProject)\n",
        "    --------\n",
        "    +[News](https://www.reddit.com/r/MachineLearning/search?sort=new&restrict\n",
        "</details>"
      ]
    },
    {
      "cell_type": "markdown",
      "metadata": {
        "heading_collapsed": true,
        "id": "1IYZHH7QDA7n"
      },
      "source": [
        "### Task II: Parse comments"
      ]
    },
    {
      "cell_type": "markdown",
      "metadata": {
        "heading_collapsed": true,
        "hidden": true,
        "id": "SCPoFVDhDA7n"
      },
      "source": [
        "#### 1. Top Posts of All Time"
      ]
    },
    {
      "cell_type": "markdown",
      "metadata": {
        "hidden": true,
        "id": "fLkpj1FxDA7n"
      },
      "source": [
        "Find titles of top 10 posts of **all time** from your favorite subreddit. Refer to [Obtain Submission Instances from a Subreddit Section](https://praw.readthedocs.io/en/stable/getting_started/quick_start.html)) if necessary. Verify if the titles match what you read on Reddit."
      ]
    },
    {
      "cell_type": "code",
      "execution_count": 105,
      "metadata": {
        "hidden": true,
        "id": "BPfPBrGdDA7o"
      },
      "outputs": [],
      "source": [
        "# try run this line, what do you see? press q once you are done\n",
        "?subreddit.top"
      ]
    },
    {
      "cell_type": "code",
      "execution_count": 133,
      "metadata": {
        "hidden": true,
        "id": "T-7CHVnkDA7o",
        "colab": {
          "base_uri": "https://localhost:8080/"
        },
        "outputId": "0a8c563b-9ddc-4aaf-c217-a044066425ce"
      },
      "outputs": [
        {
          "output_type": "stream",
          "name": "stderr",
          "text": [
            "It appears that you are using PRAW in an asynchronous environment.\n",
            "It is strongly recommended to use Async PRAW: https://asyncpraw.readthedocs.io.\n",
            "See https://praw.readthedocs.io/en/latest/getting_started/multiple_instances.html#discord-bots-and-asynchronous-environments for more info.\n",
            "\n"
          ]
        },
        {
          "output_type": "stream",
          "name": "stdout",
          "text": [
            "[Project] From books to presentations in 10s with AR + ML\n",
            "[D] A Demo from 1993 of 32-year-old Yann LeCun showing off the World's first Convolutional Network for Text Recognition\n",
            "[R] First Order Motion Model applied to animate paintings\n",
            "[N] AI can turn old photos into moving Images / Link is given in the comments - You can also turn your old photo like this\n",
            "[D] This AI reveals how much time politicians stare at their phone at work\n",
            "[D] Types of Machine Learning Papers\n",
            "[D] The machine learning community has a toxicity problem\n",
            "[Project] NEW PYTHON PACKAGE: Sync GAN Art to Music with \"Lucid Sonic Dreams\"! (Link in Comments)\n",
            "[P] Using oil portraits and First Order Model to bring the paintings back to life\n",
            "[D] Convolution Neural Network Visualization - Made with Unity 3D and lots of Code / source - stefsietz (IG)\n"
          ]
        }
      ],
      "source": [
        "# YOUR CODE HERE\n",
        "for t in subreddit.top(time_filter='all', limit=10):\n",
        "  print(t.title)"
      ]
    },
    {
      "cell_type": "markdown",
      "metadata": {
        "hidden": true,
        "id": "Nxo4ZYfwDA7p"
      },
      "source": [
        "<details> <summary>Expected output:</summary>\n",
        "\n",
        "    [Project] From books to presentations in 10s with AR + ML\n",
        "    [D] A Demo from 1993 of 32-year-old Yann LeCun showing off the World's first Convolutional Network for Text Recognition\n",
        "    [R] First Order Motion Model applied to animate paintings\n",
        "    [N] AI can turn old photos into moving Images / Link is given in the comments - You can also turn your old photo like this\n",
        "    [D] This AI reveals how much time politicians stare at their phone at work\n",
        "    [D] Types of Machine Learning Papers\n",
        "    [D] The machine learning community has a toxicity problem\n",
        "    [Project] NEW PYTHON PACKAGE: Sync GAN Art to Music with \"Lucid Sonic Dreams\"! (Link in Comments)\n",
        "    [P] Using oil portraits and First Order Model to bring the paintings back to life\n",
        "    [D] Convolution Neural Network Visualization - Made with Unity 3D and lots of Code / source - stefsietz (IG)    \n",
        "</details>"
      ]
    },
    {
      "cell_type": "markdown",
      "metadata": {
        "heading_collapsed": true,
        "hidden": true,
        "id": "G5EszBPQDA7q"
      },
      "source": [
        "#### 2. Top 10 Posts of This Week"
      ]
    },
    {
      "cell_type": "markdown",
      "metadata": {
        "hidden": true,
        "id": "EIxEmXu2DA7q"
      },
      "source": [
        "What are the titles of the top 10 posts of **this week** from your favorite subreddit?"
      ]
    },
    {
      "cell_type": "code",
      "execution_count": 99,
      "metadata": {
        "hidden": true,
        "id": "IvsPhhvGDA7q",
        "colab": {
          "base_uri": "https://localhost:8080/"
        },
        "outputId": "ddf9c3c7-056e-4260-aecf-54475c0b4fda"
      },
      "outputs": [
        {
          "output_type": "stream",
          "name": "stderr",
          "text": [
            "It appears that you are using PRAW in an asynchronous environment.\n",
            "It is strongly recommended to use Async PRAW: https://asyncpraw.readthedocs.io.\n",
            "See https://praw.readthedocs.io/en/latest/getting_started/multiple_instances.html#discord-bots-and-asynchronous-environments for more info.\n",
            "\n"
          ]
        },
        {
          "output_type": "stream",
          "name": "stdout",
          "text": [
            "[News] New Google tech - Geospatial API uses computer vision and machine learning to turn 15 years of street view imagery into a 3d canvas for augmented reality developers\n",
            "[N] Apple Executive Who Left Over Return-to-Office Policy Joins Google AI Unit: Ian Goodfellow, a former director of machine learning at Apple, is joining DeepMind.\n",
            "[R] Symphony Generation with Permutation Invariant Language Model\n",
            "[D] Research Director at Deepmind says all we need now is scaling\n",
            "[P] I was tired of screenshotting plots in Jupyter to share my results. Wanted something better, information rich. So I built a new %%share magic that freezes a cell, captures its code, output & data and returns a URL for sharing.\n",
            "[P] I made an open-source demo of OpenAI's CLIP model running completely in the browser - no server involved. Compute embeddings for (and search within) a local directory of images, or search 200k popular images from Reddit (as shown in this video). Link to demo and Github repo in comments.\n",
            "[N] Introducing Accelerated PyTorch Training on Mac\n",
            "[D] My experience with running PyTorch on the M1 GPU\n",
            "[P] DALL·E Mega Website\n",
            "[D] How to choose dimensions for latent space ?\n"
          ]
        }
      ],
      "source": [
        "# YOUR CODE HERE\n",
        "for t in subreddit.top(time_filter='week', limit=10):\n",
        "  print(t.title)"
      ]
    },
    {
      "cell_type": "markdown",
      "metadata": {
        "hidden": true,
        "id": "nHwqYBhlDA7r"
      },
      "source": [
        "<details><summary>Expected output:</summary>\n",
        "\n",
        "    [N] Ian Goodfellow, Apple’s director of machine learning, is leaving the company due to its return to work policy. In a note to staff, he said “I believe strongly that more flexibility would have been the best policy for my team.” He was likely the company’s most cited ML expert.\n",
        "    [R][P] Thin-Plate Spline Motion Model for Image Animation + Gradio Web Demo\n",
        "    [P] I’ve been trying to understand the limits of some of the available machine learning models out there. Built an app that lets you try a mix of CLIP from Open AI + Apple’s version of MobileNet, and more directly on your phone's camera roll.\n",
        "    [R] Meta is releasing a 175B parameter language model\n",
        "    [N] Hugging Face raised $100M at $2B to double down on community, open-source & ethics\n",
        "    [P] T-SNE to view and order your Spotify tracks\n",
        "    [D] : HELP Finding a Book - A book written for Google Engineers about foundational Math to support ML\n",
        "    [R] Scaled up CLIP-like model (~2B) shows 86% Zero-shot on Imagenet\n",
        "    [D] Do you use NLTK or Spacy for text preprocessing?\n",
        "    [D] Democratizing Diffusion Models - LDMs: High-Resolution Image Synthesis with Latent Diffusion Models, a 5-minute paper summary by Casual GAN Papers\n",
        "</details>"
      ]
    },
    {
      "cell_type": "markdown",
      "metadata": {
        "heading_collapsed": true,
        "hidden": true,
        "id": "S80H3nWTDA7r"
      },
      "source": [
        "#### 3. Comment Code"
      ]
    },
    {
      "cell_type": "markdown",
      "metadata": {
        "hidden": true,
        "id": "mSK4H8apDA7s"
      },
      "source": [
        "Add comments to the code block below to describe what each line of the code does (Refer to [Obtain Comment Instances Section](https://praw.readthedocs.io/en/stable/getting_started/quick_start.html) when necessary). The code is adapted from [this tutorial](https://praw.readthedocs.io/en/stable/tutorials/comments.html)\n",
        "\n",
        "The purpose is \n",
        "1. to understand what the code is doing \n",
        "2. start to comment your code whenever it is not self-explantory if you have not (others will thank you, YOU will thank you later 😊) "
      ]
    },
    {
      "cell_type": "code",
      "execution_count": 100,
      "metadata": {
        "hidden": true,
        "scrolled": true,
        "id": "YePeKatjDA7s",
        "colab": {
          "base_uri": "https://localhost:8080/"
        },
        "outputId": "b5ce50ee-bd7d-4ce0-ca6d-51f91657ccf5"
      },
      "outputs": [
        {
          "output_type": "stream",
          "name": "stderr",
          "text": [
            "It appears that you are using PRAW in an asynchronous environment.\n",
            "It is strongly recommended to use Async PRAW: https://asyncpraw.readthedocs.io.\n",
            "See https://praw.readthedocs.io/en/latest/getting_started/multiple_instances.html#discord-bots-and-asynchronous-environments for more info.\n",
            "\n",
            "It appears that you are using PRAW in an asynchronous environment.\n",
            "It is strongly recommended to use Async PRAW: https://asyncpraw.readthedocs.io.\n",
            "See https://praw.readthedocs.io/en/latest/getting_started/multiple_instances.html#discord-bots-and-asynchronous-environments for more info.\n",
            "\n",
            "It appears that you are using PRAW in an asynchronous environment.\n",
            "It is strongly recommended to use Async PRAW: https://asyncpraw.readthedocs.io.\n",
            "See https://praw.readthedocs.io/en/latest/getting_started/multiple_instances.html#discord-bots-and-asynchronous-environments for more info.\n",
            "\n",
            "It appears that you are using PRAW in an asynchronous environment.\n",
            "It is strongly recommended to use Async PRAW: https://asyncpraw.readthedocs.io.\n",
            "See https://praw.readthedocs.io/en/latest/getting_started/multiple_instances.html#discord-bots-and-asynchronous-environments for more info.\n",
            "\n",
            "It appears that you are using PRAW in an asynchronous environment.\n",
            "It is strongly recommended to use Async PRAW: https://asyncpraw.readthedocs.io.\n",
            "See https://praw.readthedocs.io/en/latest/getting_started/multiple_instances.html#discord-bots-and-asynchronous-environments for more info.\n",
            "\n",
            "It appears that you are using PRAW in an asynchronous environment.\n",
            "It is strongly recommended to use Async PRAW: https://asyncpraw.readthedocs.io.\n",
            "See https://praw.readthedocs.io/en/latest/getting_started/multiple_instances.html#discord-bots-and-asynchronous-environments for more info.\n",
            "\n",
            "It appears that you are using PRAW in an asynchronous environment.\n",
            "It is strongly recommended to use Async PRAW: https://asyncpraw.readthedocs.io.\n",
            "See https://praw.readthedocs.io/en/latest/getting_started/multiple_instances.html#discord-bots-and-asynchronous-environments for more info.\n",
            "\n",
            "It appears that you are using PRAW in an asynchronous environment.\n",
            "It is strongly recommended to use Async PRAW: https://asyncpraw.readthedocs.io.\n",
            "See https://praw.readthedocs.io/en/latest/getting_started/multiple_instances.html#discord-bots-and-asynchronous-environments for more info.\n",
            "\n",
            "It appears that you are using PRAW in an asynchronous environment.\n",
            "It is strongly recommended to use Async PRAW: https://asyncpraw.readthedocs.io.\n",
            "See https://praw.readthedocs.io/en/latest/getting_started/multiple_instances.html#discord-bots-and-asynchronous-environments for more info.\n",
            "\n",
            "It appears that you are using PRAW in an asynchronous environment.\n",
            "It is strongly recommended to use Async PRAW: https://asyncpraw.readthedocs.io.\n",
            "See https://praw.readthedocs.io/en/latest/getting_started/multiple_instances.html#discord-bots-and-asynchronous-environments for more info.\n",
            "\n",
            "It appears that you are using PRAW in an asynchronous environment.\n",
            "It is strongly recommended to use Async PRAW: https://asyncpraw.readthedocs.io.\n",
            "See https://praw.readthedocs.io/en/latest/getting_started/multiple_instances.html#discord-bots-and-asynchronous-environments for more info.\n",
            "\n"
          ]
        },
        {
          "output_type": "stream",
          "name": "stdout",
          "text": [
            "CPU times: user 1.12 s, sys: 101 ms, total: 1.22 s\n",
            "Wall time: 1min 50s\n"
          ]
        }
      ],
      "source": [
        "%%time\n",
        "from praw.models import MoreComments\n",
        "\n",
        "# YOUR COMMENT HERE : create a list to collect top commments\n",
        "top_comments = []\n",
        "\n",
        "# YOUR COMMENT HERE : show top 10 posts\n",
        "for submission in subreddit.top(limit=10):\n",
        "    # YOUR COMMENT HERE : iterate thru the comments of the top 10 pots\n",
        "    for top_level_comment in submission.comments:\n",
        "        # YOUR COMMENT HERE : if there are more comments, it continues\n",
        "        if isinstance(top_level_comment, MoreComments):\n",
        "            continue\n",
        "        # YOUR COMMENT HERE : otherwise, it addes the comments to the list created above\n",
        "        top_comments.append(top_level_comment.body)"
      ]
    },
    {
      "cell_type": "markdown",
      "metadata": {
        "heading_collapsed": true,
        "hidden": true,
        "id": "kmBGW2TeDA7s"
      },
      "source": [
        "#### 4. Inspect Comments"
      ]
    },
    {
      "cell_type": "markdown",
      "metadata": {
        "hidden": true,
        "id": "y5zvPNaFDA7t"
      },
      "source": [
        "How many comments did you extract from the last step? Examine a few comments. "
      ]
    },
    {
      "cell_type": "code",
      "execution_count": 101,
      "metadata": {
        "hidden": true,
        "id": "2_qUIcDrDA7t",
        "colab": {
          "base_uri": "https://localhost:8080/"
        },
        "outputId": "133d7388-7dcc-4916-ccb8-f2e8c2d2360f"
      },
      "outputs": [
        {
          "output_type": "execute_result",
          "data": {
            "text/plain": [
              "693"
            ]
          },
          "metadata": {},
          "execution_count": 101
        }
      ],
      "source": [
        "#YOUR CODE HERE  # the answer may vary 693 for r/machinelearning\n",
        "len(top_comments)"
      ]
    },
    {
      "cell_type": "code",
      "execution_count": 102,
      "metadata": {
        "hidden": true,
        "id": "4t6kw-2zDA7u",
        "colab": {
          "base_uri": "https://localhost:8080/"
        },
        "outputId": "19e41f4f-0082-48ec-82f9-ad0d5c44c4bc"
      },
      "outputs": [
        {
          "output_type": "execute_result",
          "data": {
            "text/plain": [
              "['I appreciate the directness of your points and I shall try (and, inevitably, fail) to emulate that in my response:\\n\\n> **First** of all, the peer-review process is *broken*.  \\n\\nIt\\'s the peer review system that is broken, it\\'s just a disconnect between the traditional methods for publishing work and the way people actually share ideas and results. Traditional publishing is dead - it has been since the internet, and the final nail in the coffin was social media. Unfortunately, most of academic science has yet to move towards a good alternative. arXiv is one such glimmer on the horizon - instead of going through a slow month or year long process to share your ideas and findings - just self publish and truly allow your work to be judged by your peers (all of them). If it\\'s true only a fourth of NeuIPS submissions are uploaded to arXiv then I am sad it\\'s not far more. \\n\\nWe need to integrate the countless new mediums of communication and visualization into how we share science. So far, it\\'s mostly the large companies (OpenAI, Deepmind, etc) that present their work with blog posts including multimedia and even interactive visualizations. Instead of condensing everything down to an eight page static paper - we should be encouraging submissions of full multimedia websites - ideally built on a common framework to make powerful visualization tools available to everyone, automatically generate printable versions for the old timers, to enable reviewers to respond/discuss directly on the page (a la OpenReviews) and, if accepted, to base the acceptance on the submission hash to identify tampering and recognize later changes). I am not advocating eliminating the peer-review system, I want make the whole process as transparent and dynamic as possible, and integrate the newest tools and media available.\\n\\n> **Secondly,** there is a *reproducibility crisis* \\n\\nI agree, that\\'s why we need a fundamentally new publishing platform where we can integrate/share code, data, and models directly (rather than occasionally linking to a disparate github repo). Ideally, the framework would have some compute behind it (maybe like Google Colab) so that all the models and code submitted can be run directly in the conference/journal submission page - imagine that: reviewers being able to interactively test people\\'s models rather than going off of nothing but cherry-picked samples.\\n\\n> **Thirdly,** there is a *worshiping* problem. \\n\\nThat\\'s probably true, although I can\\'t speak too much about it, as I\\'m not very involved in the politics of academic research. That being said, all enterprises will inevitably involve some icky politics and favoritism. The best we can do to combat that is make things as transparent as possible.\\n\\n> **Fourthly**, ... *toxicity*\\n\\n This problem goes far being ML/AI research - it has pretty much pervaded throughout all of public discourse at this point. We can discuss the problem of \"toxicity\" in general, which I would chalk up to our culture having not quite come to terms with the fundamentally different way we have to process information in the information age. However, overall I think AI research (and science in general) does a better job than most areas on that front.\\n\\n> **Fifthly**, ... a huge *diversity problem* \\n\\nI completely agree, and there are plenty of arguments for why we and all of academia has a diversity problem. You are probably familiar with most, and we don\\'t have to get into them, but suffice to say, once again, our cultural and traditional biases and institutions conflict with a more contemporary mentality. What do we do about it? Outreach and transparency - they are slow but they work.\\n\\n> **Sixthly**, moral and ethics are set *arbitrarily* \\n\\nThe problem here is a little unclear to me? Is it that people use technology in ways other people don\\'t like? That seems inevitable. Is it that Western culture undervalues the rest of the world? What else is new? Don\\'t get dragged down with the American Exceptionalists in denial as the US heads for economic and social stagnation and decline.\\n\\n> **Seventhly**, there is a cut-throat publish-or-perish *mentality*.  \\n\\nComing from physics research, I agree that the AI field has a dangerously strong publish-or-perish mentality. However, that also means the field is highly dynamic and garners lots of interest/funding. I\\'m not convinced that a field as closely intertwined with engineering and the private sector does not actually benefit from a shorter project cycle. Additionally, the barrier to entry is virtually non-existent (unlike most other sciences where researchers won\\'t give you the time of day if you don\\'t already have a PhD, and the equipment/expertise necessary for making progress precludes anyone outside of 2-3 groups on Earth from publishing on your topic).\\n\\n> **Finally**, discussions have become *disrespectful*. \\n\\nAgain, that\\'s really just a misunderstanding for the way information works in the information age. Attention is a commodity and insulting people still has a high rate of return. This will change for the better as we get a handle on how to process information in this brave new world (especially in informal settings like social media).\\n\\nThanks for the points though - it does us well to think critically about not just the \"what\" in research but also the \"how\" and \"why\".',\n",
              " 'I know exactly which video it is and it should definitely instead be the m to the b zoom call with the dog',\n",
              " '> papers by well-known institutes that were put on arXiv are accepted at top conferences, despite the reviewers agreeing on rejection.\\n\\nWait, can someone provide an example of this?']"
            ]
          },
          "metadata": {},
          "execution_count": 102
        }
      ],
      "source": [
        "import random\n",
        "\n",
        "[random.choice(top_comments) for i in range(3)]"
      ]
    },
    {
      "cell_type": "markdown",
      "metadata": {
        "id": "ir3UxS2EDA7u"
      },
      "source": [
        "<details> <summary>Some of the comments from `r/machinelearning` subreddit are:</summary>\n",
        "\n",
        "    ['Awesome visualisation',\n",
        "    'Similar to a stack or connected neurons.',\n",
        "    'Will this Turing pass the Turing Test?']\n",
        "</details>"
      ]
    },
    {
      "cell_type": "markdown",
      "metadata": {
        "hidden": true,
        "id": "i6sjfprfDA7v"
      },
      "source": [
        "#### 5. Extract Top Level Comment from Subreddit `TSLA`."
      ]
    },
    {
      "cell_type": "markdown",
      "metadata": {
        "hidden": true,
        "id": "9E7n2VEjDA7v"
      },
      "source": [
        "Write your code to extract top level comments from the top 10 topics of a time period, e.g., year, from subreddit `TSLA` and store them in a list `top_comments_tsla`.  "
      ]
    },
    {
      "cell_type": "code",
      "execution_count": 136,
      "metadata": {
        "hidden": true,
        "id": "Xoz6ovQCDA7v",
        "colab": {
          "base_uri": "https://localhost:8080/"
        },
        "outputId": "dd902a22-6a50-45c0-88c8-32a13d122c32"
      },
      "outputs": [
        {
          "output_type": "stream",
          "name": "stderr",
          "text": [
            "It appears that you are using PRAW in an asynchronous environment.\n",
            "It is strongly recommended to use Async PRAW: https://asyncpraw.readthedocs.io.\n",
            "See https://praw.readthedocs.io/en/latest/getting_started/multiple_instances.html#discord-bots-and-asynchronous-environments for more info.\n",
            "\n",
            "It appears that you are using PRAW in an asynchronous environment.\n",
            "It is strongly recommended to use Async PRAW: https://asyncpraw.readthedocs.io.\n",
            "See https://praw.readthedocs.io/en/latest/getting_started/multiple_instances.html#discord-bots-and-asynchronous-environments for more info.\n",
            "\n",
            "It appears that you are using PRAW in an asynchronous environment.\n",
            "It is strongly recommended to use Async PRAW: https://asyncpraw.readthedocs.io.\n",
            "See https://praw.readthedocs.io/en/latest/getting_started/multiple_instances.html#discord-bots-and-asynchronous-environments for more info.\n",
            "\n",
            "It appears that you are using PRAW in an asynchronous environment.\n",
            "It is strongly recommended to use Async PRAW: https://asyncpraw.readthedocs.io.\n",
            "See https://praw.readthedocs.io/en/latest/getting_started/multiple_instances.html#discord-bots-and-asynchronous-environments for more info.\n",
            "\n",
            "It appears that you are using PRAW in an asynchronous environment.\n",
            "It is strongly recommended to use Async PRAW: https://asyncpraw.readthedocs.io.\n",
            "See https://praw.readthedocs.io/en/latest/getting_started/multiple_instances.html#discord-bots-and-asynchronous-environments for more info.\n",
            "\n",
            "It appears that you are using PRAW in an asynchronous environment.\n",
            "It is strongly recommended to use Async PRAW: https://asyncpraw.readthedocs.io.\n",
            "See https://praw.readthedocs.io/en/latest/getting_started/multiple_instances.html#discord-bots-and-asynchronous-environments for more info.\n",
            "\n",
            "It appears that you are using PRAW in an asynchronous environment.\n",
            "It is strongly recommended to use Async PRAW: https://asyncpraw.readthedocs.io.\n",
            "See https://praw.readthedocs.io/en/latest/getting_started/multiple_instances.html#discord-bots-and-asynchronous-environments for more info.\n",
            "\n",
            "It appears that you are using PRAW in an asynchronous environment.\n",
            "It is strongly recommended to use Async PRAW: https://asyncpraw.readthedocs.io.\n",
            "See https://praw.readthedocs.io/en/latest/getting_started/multiple_instances.html#discord-bots-and-asynchronous-environments for more info.\n",
            "\n",
            "It appears that you are using PRAW in an asynchronous environment.\n",
            "It is strongly recommended to use Async PRAW: https://asyncpraw.readthedocs.io.\n",
            "See https://praw.readthedocs.io/en/latest/getting_started/multiple_instances.html#discord-bots-and-asynchronous-environments for more info.\n",
            "\n",
            "It appears that you are using PRAW in an asynchronous environment.\n",
            "It is strongly recommended to use Async PRAW: https://asyncpraw.readthedocs.io.\n",
            "See https://praw.readthedocs.io/en/latest/getting_started/multiple_instances.html#discord-bots-and-asynchronous-environments for more info.\n",
            "\n",
            "It appears that you are using PRAW in an asynchronous environment.\n",
            "It is strongly recommended to use Async PRAW: https://asyncpraw.readthedocs.io.\n",
            "See https://praw.readthedocs.io/en/latest/getting_started/multiple_instances.html#discord-bots-and-asynchronous-environments for more info.\n",
            "\n"
          ]
        }
      ],
      "source": [
        "# YOUR CODE HERE\n",
        "top_comments_tsla = []\n",
        "\n",
        "for submission in reddit.subreddit('TSLA').top(time_filter='year', limit=10):\n",
        "  for top_comment in submission.comments:\n",
        "    if isinstance(top_comment, MoreComments):\n",
        "      continue\n",
        "    top_comments_tsla.append(top_comment.body)\n",
        "\n",
        "top_comments_tsla.sort()"
      ]
    },
    {
      "cell_type": "code",
      "execution_count": 137,
      "metadata": {
        "hidden": true,
        "id": "2YBAa6_tDA7w",
        "colab": {
          "base_uri": "https://localhost:8080/"
        },
        "outputId": "3141e273-8a40-463b-93eb-fb18564e60f0"
      },
      "outputs": [
        {
          "output_type": "execute_result",
          "data": {
            "text/plain": [
              "173"
            ]
          },
          "metadata": {},
          "execution_count": 137
        }
      ],
      "source": [
        "len(top_comments_tsla) # Expected: 174 for r/machinelearning"
      ]
    },
    {
      "cell_type": "code",
      "execution_count": 138,
      "metadata": {
        "hidden": true,
        "scrolled": true,
        "id": "q-eMn6ZiDA7w",
        "colab": {
          "base_uri": "https://localhost:8080/"
        },
        "outputId": "2be0acbc-551c-45b5-bcf8-4647167396a9"
      },
      "outputs": [
        {
          "output_type": "execute_result",
          "data": {
            "text/plain": [
              "['Already did, have been red for weeks, I HODL.',\n",
              " 'It’s gonna happen 10000000000000% on December 9th exactly',\n",
              " 'It would make sense to do a split soon so that more people can buy into it. I hope Elon splits it before the end of the year']"
            ]
          },
          "metadata": {},
          "execution_count": 138
        }
      ],
      "source": [
        "[random.choice(top_comments_tsla) for i in range(3)]"
      ]
    },
    {
      "cell_type": "markdown",
      "metadata": {
        "id": "RAYTB7cvDA7w"
      },
      "source": [
        "<details>\n",
        "<summary>Some of the comments from `r/TSLA` subreddit:</summary>\n",
        "\n",
        "    ['I bought puts',\n",
        "    '100%',\n",
        "    'Yes. And I’m bag holding 1200 calls for Friday and am close to throwing myself out the window']\n",
        "</details>"
      ]
    },
    {
      "cell_type": "markdown",
      "metadata": {
        "heading_collapsed": true,
        "id": "CmmrKgkRDA7x"
      },
      "source": [
        "### Task III: Sentiment Analysis"
      ]
    },
    {
      "cell_type": "markdown",
      "metadata": {
        "hidden": true,
        "id": "6zgtna7fDA7x"
      },
      "source": [
        "Let us analyze the sentiment of comments scraped from `r/TSLA` using a pre-trained HuggingFace model to make the inference. Take a [Quick tour](https://huggingface.co/docs/transformers/quicktour). "
      ]
    },
    {
      "cell_type": "markdown",
      "metadata": {
        "hidden": true,
        "id": "ZyVcVqbpDA7x"
      },
      "source": [
        "#### 1. Import `pipeline`"
      ]
    },
    {
      "cell_type": "code",
      "execution_count": 139,
      "metadata": {
        "hidden": true,
        "id": "FCtzyS03DA7y"
      },
      "outputs": [],
      "source": [
        "from transformers import pipeline"
      ]
    },
    {
      "cell_type": "markdown",
      "metadata": {
        "hidden": true,
        "id": "olZskA95DA7y"
      },
      "source": [
        "#### 2. Create a Pipeline to Perform Task \"sentiment-analysis\""
      ]
    },
    {
      "cell_type": "code",
      "execution_count": 140,
      "metadata": {
        "hidden": true,
        "id": "owbmul3SDA7y",
        "colab": {
          "base_uri": "https://localhost:8080/",
          "height": 162,
          "referenced_widgets": [
            "df72046a982245caad36f9f107720e3a",
            "58597ea31114456aaaeac34cba6c75df",
            "1ab55b639a5344e1b4d11125a08871bf",
            "e095c959ce7743a09375b2a461810801",
            "e112ba02d3304987bedb4e1e3206a191",
            "c9ebfe734d904e3f83173b20138ec62b",
            "ea174dc4e8084ad28d8c83e00d6701a4",
            "7e5ea840368848088976a3945f3a7d09",
            "d81f1c54ae8947c08e805931b9c6b1c9",
            "39f4d1bef9bd4c58a820e4a0b1bd5d13",
            "16e44feadc824a3bb7f4ea02d7862c7c",
            "da18f0a170af40dba3f6e705f7630331",
            "d29c9f3c24aa426b9aa09dd72ca94feb",
            "846f906efdd64aa8931dccb0bed39e33",
            "93a1f7afd7a6479480577404b957dc10",
            "9c07a3837b8b40bb8646d43ac510577a",
            "a95d2e2e4f974a1cbf2a29f27816cafe",
            "7d2eeab02002400fa0711e29fbeee6bd",
            "09e9a614b868433e8e3f1865d1ea479c",
            "ad62aa2efeb34820a29ef4c4326be793",
            "6a5c940371ab404593fab5c958755a56",
            "1f437de3df3e4997891514b1425810f2",
            "0e6c4b495b9b43c0bdf382c7082ee2a0",
            "019c2eeb792d4c1eb1bebf0375f62422",
            "b3fba3a26a974c8e8652cfa8c3d7d4e0",
            "6ef277bde36849d883c68cc5c97c8771",
            "ce8eb718908b45ebbd33700dae725105",
            "0b3a260674cb4e2199ee3c58bd910cf0",
            "e2977668b50e45d1adb82f4a1f1b9e83",
            "0ce48b22f1674e3dba0160bec3cbd90c",
            "8b346ae8a6e8413899c02fe17def0916",
            "22e820fa339948439c9bd8541579881a",
            "4416174849fc442389d0b521603ecf18",
            "5c07e7aeb56040e3bc9f201c0f85ca1c",
            "b926c54f862a453cb6e45c0eb4ce78a6",
            "2d0bffecf26a4d039fefa06fca14591a",
            "3cf692168d9a47f4a0f49dfe95688f0e",
            "e8c64638244b4ab4bb333866082bdf47",
            "d4776c7013f74c329e3a0b4772a468cf",
            "9a8a3d1d26124091bc2afa843165dead",
            "16c377914c544082851c28c31c80c925",
            "d2e061350a7b4be08d310ca150fa0a32",
            "6425f4a670954938bf874b1d29652031",
            "86defc8bf2674c2b8f96add43f2268f0"
          ]
        },
        "outputId": "1a451251-8366-4b2a-aa56-0f548468cb4f"
      },
      "outputs": [
        {
          "output_type": "stream",
          "name": "stderr",
          "text": [
            "No model was supplied, defaulted to distilbert-base-uncased-finetuned-sst-2-english (https://huggingface.co/distilbert-base-uncased-finetuned-sst-2-english)\n"
          ]
        },
        {
          "output_type": "display_data",
          "data": {
            "text/plain": [
              "Downloading:   0%|          | 0.00/629 [00:00<?, ?B/s]"
            ],
            "application/vnd.jupyter.widget-view+json": {
              "version_major": 2,
              "version_minor": 0,
              "model_id": "df72046a982245caad36f9f107720e3a"
            }
          },
          "metadata": {}
        },
        {
          "output_type": "display_data",
          "data": {
            "text/plain": [
              "Downloading:   0%|          | 0.00/255M [00:00<?, ?B/s]"
            ],
            "application/vnd.jupyter.widget-view+json": {
              "version_major": 2,
              "version_minor": 0,
              "model_id": "da18f0a170af40dba3f6e705f7630331"
            }
          },
          "metadata": {}
        },
        {
          "output_type": "display_data",
          "data": {
            "text/plain": [
              "Downloading:   0%|          | 0.00/48.0 [00:00<?, ?B/s]"
            ],
            "application/vnd.jupyter.widget-view+json": {
              "version_major": 2,
              "version_minor": 0,
              "model_id": "0e6c4b495b9b43c0bdf382c7082ee2a0"
            }
          },
          "metadata": {}
        },
        {
          "output_type": "display_data",
          "data": {
            "text/plain": [
              "Downloading:   0%|          | 0.00/226k [00:00<?, ?B/s]"
            ],
            "application/vnd.jupyter.widget-view+json": {
              "version_major": 2,
              "version_minor": 0,
              "model_id": "5c07e7aeb56040e3bc9f201c0f85ca1c"
            }
          },
          "metadata": {}
        }
      ],
      "source": [
        "sentiment_model = pipeline(\"sentiment-analysis\")"
      ]
    },
    {
      "cell_type": "markdown",
      "metadata": {
        "hidden": true,
        "id": "l41mgDJBDA7z"
      },
      "source": [
        "#### 3. Get one comment from list `top_comments_tsla` from Task II - 5."
      ]
    },
    {
      "cell_type": "code",
      "execution_count": 161,
      "metadata": {
        "hidden": true,
        "id": "dMhLp_xLDA7z"
      },
      "outputs": [],
      "source": [
        "comment = random.choice(top_comments_tsla)"
      ]
    },
    {
      "cell_type": "code",
      "execution_count": 162,
      "metadata": {
        "hidden": true,
        "id": "L8NZpe0XDA7z",
        "colab": {
          "base_uri": "https://localhost:8080/",
          "height": 35
        },
        "outputId": "d79ac4dd-a23f-4ee7-f1e1-57e68c7928cc"
      },
      "outputs": [
        {
          "output_type": "execute_result",
          "data": {
            "text/plain": [
              "'Buy and hold long for the win.'"
            ],
            "application/vnd.google.colaboratory.intrinsic+json": {
              "type": "string"
            }
          },
          "metadata": {},
          "execution_count": 162
        }
      ],
      "source": [
        "comment"
      ]
    },
    {
      "cell_type": "markdown",
      "metadata": {
        "id": "aOAyDimfDA70"
      },
      "source": [
        "The example comment is: `'Bury Burry!!!!!'`. Print out what you get. For reproducibility, use the same comment in the next step; consider setting a seed."
      ]
    },
    {
      "cell_type": "markdown",
      "metadata": {
        "hidden": true,
        "id": "Pqi2jNPUDA70"
      },
      "source": [
        "#### 4. Make Inference!"
      ]
    },
    {
      "cell_type": "code",
      "execution_count": 163,
      "metadata": {
        "hidden": true,
        "id": "a3mJBPF7DA70",
        "colab": {
          "base_uri": "https://localhost:8080/"
        },
        "outputId": "40dd630e-fa6d-406a-cc09-38e6109f7fac"
      },
      "outputs": [
        {
          "output_type": "execute_result",
          "data": {
            "text/plain": [
              "[{'label': 'POSITIVE', 'score': 0.9996935129165649}]"
            ]
          },
          "metadata": {},
          "execution_count": 163
        }
      ],
      "source": [
        "sentiment = sentiment_model(comment)\n",
        "\n",
        "sentiment"
      ]
    },
    {
      "cell_type": "markdown",
      "metadata": {
        "hidden": true,
        "id": "VlwP5CD2DA71"
      },
      "source": [
        "What is the type of the output `sentiment`?"
      ]
    },
    {
      "cell_type": "markdown",
      "metadata": {
        "hidden": true,
        "id": "4Pe2_U0iDA71"
      },
      "source": [
        "```\n",
        "YOUR ANSWER HERE - LIST of dictionary\n",
        "```"
      ]
    },
    {
      "cell_type": "code",
      "execution_count": 164,
      "metadata": {
        "hidden": true,
        "scrolled": true,
        "id": "c7DLq3kADA71",
        "colab": {
          "base_uri": "https://localhost:8080/"
        },
        "outputId": "f5dee672-f62d-4c4d-c558-a7a141ce4975"
      },
      "outputs": [
        {
          "output_type": "stream",
          "name": "stdout",
          "text": [
            "The comment: Buy and hold long for the win.\n",
            "Predicted Label is POSITIVE and the score is 1.000\n"
          ]
        }
      ],
      "source": [
        "print(f'The comment: {comment}')\n",
        "print(f'Predicted Label is {sentiment[0][\"label\"]} and the score is {sentiment[0][\"score\"]:.3f}')"
      ]
    },
    {
      "cell_type": "markdown",
      "metadata": {
        "id": "Kh3fI0UPDA71"
      },
      "source": [
        "For the example comment, the output is:\n",
        "\n",
        "    The comment: Bury Burry!!!!!\n",
        "    Predicted Label is NEGATIVE and the score is 0.989"
      ]
    },
    {
      "cell_type": "markdown",
      "metadata": {
        "id": "3rx1bcnvDA72"
      },
      "source": [
        "### Task IV: Put All Together"
      ]
    },
    {
      "cell_type": "markdown",
      "metadata": {
        "id": "QT9uoX92DA72"
      },
      "source": [
        "Let's pull all the piece together, create a simple script that does \n",
        "\n",
        "- get the subreddit\n",
        "- get comments from the top posts for given subreddit\n",
        "- run sentiment analysis "
      ]
    },
    {
      "cell_type": "markdown",
      "metadata": {
        "id": "j2cGt5DJDA73"
      },
      "source": [
        "#### Complete the Script"
      ]
    },
    {
      "cell_type": "markdown",
      "metadata": {
        "id": "L_jMg-9LDA73"
      },
      "source": [
        "Once you complete the code, running the following block writes the code into a new Python script and saves it as `top_tlsa_comment_sentiment.py` under the same directory with the notebook. "
      ]
    },
    {
      "cell_type": "code",
      "execution_count": 185,
      "metadata": {
        "code_folding": [],
        "id": "Poe1-ViWDA73",
        "colab": {
          "base_uri": "https://localhost:8080/"
        },
        "outputId": "96a6071b-98b7-41a3-cc64-17193f585a34"
      },
      "outputs": [
        {
          "output_type": "stream",
          "name": "stdout",
          "text": [
            "Overwriting top_tlsa_comment_sentiment.py\n"
          ]
        }
      ],
      "source": [
        "%%writefile top_tlsa_comment_sentiment.py\n",
        "\n",
        "# import secrets\n",
        "import secrets_week14 as secrets\n",
        "import random\n",
        "\n",
        "from typing import Dict, List\n",
        "\n",
        "from praw import Reddit\n",
        "from praw.models.reddit.subreddit import Subreddit\n",
        "from praw.models import MoreComments\n",
        "\n",
        "from transformers import pipeline\n",
        "\n",
        "\n",
        "def get_subreddit(display_name:str) -> Subreddit:\n",
        "    \"\"\"Get subreddit object from display name\n",
        "\n",
        "    Args:\n",
        "        display_name (str): [description]\n",
        "\n",
        "    Returns:\n",
        "        Subreddit: [description]\n",
        "    \"\"\"\n",
        "    reddit = Reddit(\n",
        "        client_id=secrets.REDDIT_API_CLIENT_ID,        \n",
        "        client_secret=secrets.REDDIT_API_CLIENT_SECRET,\n",
        "        user_agent=secrets.REDDIT_API_USER_AGENT\n",
        "        )\n",
        "    \n",
        "    subreddit = reddit.subreddit(display_name)\n",
        "    return subreddit\n",
        "\n",
        "def get_comments(subreddit:Subreddit, limit:int=3) -> List[str]:\n",
        "    \"\"\" Get comments from subreddit\n",
        "\n",
        "    Args:\n",
        "        subreddit (Subreddit): [description]\n",
        "        limit (int, optional): [description]. Defaults to 3.\n",
        "\n",
        "    Returns:\n",
        "        List[str]: List of comments\n",
        "    \"\"\"\n",
        "    top_comments = []\n",
        "    for submission in subreddit.top(limit=limit):\n",
        "        for top_level_comment in submission.comments:\n",
        "            if isinstance(top_level_comment, MoreComments):\n",
        "                continue\n",
        "            top_comments.append(top_level_comment.body)\n",
        "    return top_comments\n",
        "\n",
        "def run_sentiment_analysis(comment:str) -> Dict:\n",
        "    \"\"\"Run sentiment analysis on comment using default distilbert model\n",
        "    \n",
        "    Args:\n",
        "        comment (str): [description]\n",
        "        \n",
        "    Returns:\n",
        "        str: Sentiment analysis result\n",
        "    \"\"\"\n",
        "    sentiment_model = pipeline('sentiment-analysis')\n",
        "    sentiment = sentiment_model(comment)\n",
        "    return sentiment[0]\n",
        "\n",
        "\n",
        "if __name__ == '__main__':\n",
        "    submission = get_subreddit('TSLA')\n",
        "    comments = get_comments(submission)\n",
        "    comment = random.choice(comments)\n",
        "    sentiment = run_sentiment_analysis(comment)\n",
        "    \n",
        "    print(f'The comment: {comment}')\n",
        "    print(f'Predicted Label is {sentiment[\"label\"]} and the score is {sentiment[\"score\"]:.3f}')"
      ]
    },
    {
      "cell_type": "code",
      "source": [
        "!ls -ltr"
      ],
      "metadata": {
        "colab": {
          "base_uri": "https://localhost:8080/"
        },
        "id": "6afpIRsaCXhf",
        "outputId": "072892a0-53da-4855-8925-248934476caf"
      },
      "execution_count": 186,
      "outputs": [
        {
          "output_type": "stream",
          "name": "stdout",
          "text": [
            "total 16\n",
            "drwxr-xr-x 1 root root 4096 May 17 13:39 sample_data\n",
            "-rw-r--r-- 1 root root  148 May 20 01:19 secrets_week14.py\n",
            "drwxr-xr-x 2 root root 4096 May 20 01:19 __pycache__\n",
            "-rw-r--r-- 1 root root 1975 May 20 01:23 top_tlsa_comment_sentiment.py\n"
          ]
        }
      ]
    },
    {
      "cell_type": "markdown",
      "metadata": {
        "id": "mr0ssj2eDA74"
      },
      "source": [
        "Run the following block to see the output."
      ]
    },
    {
      "cell_type": "code",
      "execution_count": 187,
      "metadata": {
        "id": "6dGj5ufdDA74",
        "colab": {
          "base_uri": "https://localhost:8080/"
        },
        "outputId": "383def22-8152-47e6-ca07-6eb70a69f37a"
      },
      "outputs": [
        {
          "output_type": "stream",
          "name": "stdout",
          "text": [
            "No model was supplied, defaulted to distilbert-base-uncased-finetuned-sst-2-english (https://huggingface.co/distilbert-base-uncased-finetuned-sst-2-english)\n",
            "2022-05-20 01:24:01.122469: E tensorflow/stream_executor/cuda/cuda_driver.cc:271] failed call to cuInit: CUDA_ERROR_NO_DEVICE: no CUDA-capable device is detected\n",
            "The comment: Have you ever talked with Elon? Could say few words about him? Thanks\n",
            "Predicted Label is POSITIVE and the score is 0.999\n"
          ]
        }
      ],
      "source": [
        "!python top_tlsa_comment_sentiment.py"
      ]
    },
    {
      "cell_type": "markdown",
      "metadata": {
        "id": "aySC-u7PDA75"
      },
      "source": [
        "<details><summary> Expected output:</summary>\n",
        "\n",
        "    No model was supplied, defaulted to distilbert-base-uncased-finetuned-sst-2-english (https://huggingface.co/distilbert-base-uncased-finetuned-sst-2-english)\n",
        "    The comment: When is DOGE flying\n",
        "    Predicted Label is POSITIVE and the score is 0.689\n",
        "</details>"
      ]
    }
  ],
  "metadata": {
    "interpreter": {
      "hash": "70e5a9886b02a227d3c83e17263e3a28d12f842d6950be488144931078452c0e"
    },
    "kernelspec": {
      "display_name": "py39_12",
      "language": "python",
      "name": "py39_12"
    },
    "language_info": {
      "codemirror_mode": {
        "name": "ipython",
        "version": 3
      },
      "file_extension": ".py",
      "mimetype": "text/x-python",
      "name": "python",
      "nbconvert_exporter": "python",
      "pygments_lexer": "ipython3",
      "version": "3.9.12"
    },
    "toc": {
      "base_numbering": 1,
      "nav_menu": {},
      "number_sections": true,
      "sideBar": true,
      "skip_h1_title": false,
      "title_cell": "Table of Contents",
      "title_sidebar": "Contents",
      "toc_cell": false,
      "toc_position": {},
      "toc_section_display": true,
      "toc_window_display": true
    },
    "colab": {
      "name": "Copy of analyze-sentiment-subreddit.ipynb",
      "provenance": [],
      "collapsed_sections": [
        "_sC-QDBgDA7X"
      ]
    },
    "widgets": {
      "application/vnd.jupyter.widget-state+json": {
        "df72046a982245caad36f9f107720e3a": {
          "model_module": "@jupyter-widgets/controls",
          "model_name": "HBoxModel",
          "model_module_version": "1.5.0",
          "state": {
            "_dom_classes": [],
            "_model_module": "@jupyter-widgets/controls",
            "_model_module_version": "1.5.0",
            "_model_name": "HBoxModel",
            "_view_count": null,
            "_view_module": "@jupyter-widgets/controls",
            "_view_module_version": "1.5.0",
            "_view_name": "HBoxView",
            "box_style": "",
            "children": [
              "IPY_MODEL_58597ea31114456aaaeac34cba6c75df",
              "IPY_MODEL_1ab55b639a5344e1b4d11125a08871bf",
              "IPY_MODEL_e095c959ce7743a09375b2a461810801"
            ],
            "layout": "IPY_MODEL_e112ba02d3304987bedb4e1e3206a191"
          }
        },
        "58597ea31114456aaaeac34cba6c75df": {
          "model_module": "@jupyter-widgets/controls",
          "model_name": "HTMLModel",
          "model_module_version": "1.5.0",
          "state": {
            "_dom_classes": [],
            "_model_module": "@jupyter-widgets/controls",
            "_model_module_version": "1.5.0",
            "_model_name": "HTMLModel",
            "_view_count": null,
            "_view_module": "@jupyter-widgets/controls",
            "_view_module_version": "1.5.0",
            "_view_name": "HTMLView",
            "description": "",
            "description_tooltip": null,
            "layout": "IPY_MODEL_c9ebfe734d904e3f83173b20138ec62b",
            "placeholder": "​",
            "style": "IPY_MODEL_ea174dc4e8084ad28d8c83e00d6701a4",
            "value": "Downloading: 100%"
          }
        },
        "1ab55b639a5344e1b4d11125a08871bf": {
          "model_module": "@jupyter-widgets/controls",
          "model_name": "FloatProgressModel",
          "model_module_version": "1.5.0",
          "state": {
            "_dom_classes": [],
            "_model_module": "@jupyter-widgets/controls",
            "_model_module_version": "1.5.0",
            "_model_name": "FloatProgressModel",
            "_view_count": null,
            "_view_module": "@jupyter-widgets/controls",
            "_view_module_version": "1.5.0",
            "_view_name": "ProgressView",
            "bar_style": "success",
            "description": "",
            "description_tooltip": null,
            "layout": "IPY_MODEL_7e5ea840368848088976a3945f3a7d09",
            "max": 629,
            "min": 0,
            "orientation": "horizontal",
            "style": "IPY_MODEL_d81f1c54ae8947c08e805931b9c6b1c9",
            "value": 629
          }
        },
        "e095c959ce7743a09375b2a461810801": {
          "model_module": "@jupyter-widgets/controls",
          "model_name": "HTMLModel",
          "model_module_version": "1.5.0",
          "state": {
            "_dom_classes": [],
            "_model_module": "@jupyter-widgets/controls",
            "_model_module_version": "1.5.0",
            "_model_name": "HTMLModel",
            "_view_count": null,
            "_view_module": "@jupyter-widgets/controls",
            "_view_module_version": "1.5.0",
            "_view_name": "HTMLView",
            "description": "",
            "description_tooltip": null,
            "layout": "IPY_MODEL_39f4d1bef9bd4c58a820e4a0b1bd5d13",
            "placeholder": "​",
            "style": "IPY_MODEL_16e44feadc824a3bb7f4ea02d7862c7c",
            "value": " 629/629 [00:00&lt;00:00, 10.0kB/s]"
          }
        },
        "e112ba02d3304987bedb4e1e3206a191": {
          "model_module": "@jupyter-widgets/base",
          "model_name": "LayoutModel",
          "model_module_version": "1.2.0",
          "state": {
            "_model_module": "@jupyter-widgets/base",
            "_model_module_version": "1.2.0",
            "_model_name": "LayoutModel",
            "_view_count": null,
            "_view_module": "@jupyter-widgets/base",
            "_view_module_version": "1.2.0",
            "_view_name": "LayoutView",
            "align_content": null,
            "align_items": null,
            "align_self": null,
            "border": null,
            "bottom": null,
            "display": null,
            "flex": null,
            "flex_flow": null,
            "grid_area": null,
            "grid_auto_columns": null,
            "grid_auto_flow": null,
            "grid_auto_rows": null,
            "grid_column": null,
            "grid_gap": null,
            "grid_row": null,
            "grid_template_areas": null,
            "grid_template_columns": null,
            "grid_template_rows": null,
            "height": null,
            "justify_content": null,
            "justify_items": null,
            "left": null,
            "margin": null,
            "max_height": null,
            "max_width": null,
            "min_height": null,
            "min_width": null,
            "object_fit": null,
            "object_position": null,
            "order": null,
            "overflow": null,
            "overflow_x": null,
            "overflow_y": null,
            "padding": null,
            "right": null,
            "top": null,
            "visibility": null,
            "width": null
          }
        },
        "c9ebfe734d904e3f83173b20138ec62b": {
          "model_module": "@jupyter-widgets/base",
          "model_name": "LayoutModel",
          "model_module_version": "1.2.0",
          "state": {
            "_model_module": "@jupyter-widgets/base",
            "_model_module_version": "1.2.0",
            "_model_name": "LayoutModel",
            "_view_count": null,
            "_view_module": "@jupyter-widgets/base",
            "_view_module_version": "1.2.0",
            "_view_name": "LayoutView",
            "align_content": null,
            "align_items": null,
            "align_self": null,
            "border": null,
            "bottom": null,
            "display": null,
            "flex": null,
            "flex_flow": null,
            "grid_area": null,
            "grid_auto_columns": null,
            "grid_auto_flow": null,
            "grid_auto_rows": null,
            "grid_column": null,
            "grid_gap": null,
            "grid_row": null,
            "grid_template_areas": null,
            "grid_template_columns": null,
            "grid_template_rows": null,
            "height": null,
            "justify_content": null,
            "justify_items": null,
            "left": null,
            "margin": null,
            "max_height": null,
            "max_width": null,
            "min_height": null,
            "min_width": null,
            "object_fit": null,
            "object_position": null,
            "order": null,
            "overflow": null,
            "overflow_x": null,
            "overflow_y": null,
            "padding": null,
            "right": null,
            "top": null,
            "visibility": null,
            "width": null
          }
        },
        "ea174dc4e8084ad28d8c83e00d6701a4": {
          "model_module": "@jupyter-widgets/controls",
          "model_name": "DescriptionStyleModel",
          "model_module_version": "1.5.0",
          "state": {
            "_model_module": "@jupyter-widgets/controls",
            "_model_module_version": "1.5.0",
            "_model_name": "DescriptionStyleModel",
            "_view_count": null,
            "_view_module": "@jupyter-widgets/base",
            "_view_module_version": "1.2.0",
            "_view_name": "StyleView",
            "description_width": ""
          }
        },
        "7e5ea840368848088976a3945f3a7d09": {
          "model_module": "@jupyter-widgets/base",
          "model_name": "LayoutModel",
          "model_module_version": "1.2.0",
          "state": {
            "_model_module": "@jupyter-widgets/base",
            "_model_module_version": "1.2.0",
            "_model_name": "LayoutModel",
            "_view_count": null,
            "_view_module": "@jupyter-widgets/base",
            "_view_module_version": "1.2.0",
            "_view_name": "LayoutView",
            "align_content": null,
            "align_items": null,
            "align_self": null,
            "border": null,
            "bottom": null,
            "display": null,
            "flex": null,
            "flex_flow": null,
            "grid_area": null,
            "grid_auto_columns": null,
            "grid_auto_flow": null,
            "grid_auto_rows": null,
            "grid_column": null,
            "grid_gap": null,
            "grid_row": null,
            "grid_template_areas": null,
            "grid_template_columns": null,
            "grid_template_rows": null,
            "height": null,
            "justify_content": null,
            "justify_items": null,
            "left": null,
            "margin": null,
            "max_height": null,
            "max_width": null,
            "min_height": null,
            "min_width": null,
            "object_fit": null,
            "object_position": null,
            "order": null,
            "overflow": null,
            "overflow_x": null,
            "overflow_y": null,
            "padding": null,
            "right": null,
            "top": null,
            "visibility": null,
            "width": null
          }
        },
        "d81f1c54ae8947c08e805931b9c6b1c9": {
          "model_module": "@jupyter-widgets/controls",
          "model_name": "ProgressStyleModel",
          "model_module_version": "1.5.0",
          "state": {
            "_model_module": "@jupyter-widgets/controls",
            "_model_module_version": "1.5.0",
            "_model_name": "ProgressStyleModel",
            "_view_count": null,
            "_view_module": "@jupyter-widgets/base",
            "_view_module_version": "1.2.0",
            "_view_name": "StyleView",
            "bar_color": null,
            "description_width": ""
          }
        },
        "39f4d1bef9bd4c58a820e4a0b1bd5d13": {
          "model_module": "@jupyter-widgets/base",
          "model_name": "LayoutModel",
          "model_module_version": "1.2.0",
          "state": {
            "_model_module": "@jupyter-widgets/base",
            "_model_module_version": "1.2.0",
            "_model_name": "LayoutModel",
            "_view_count": null,
            "_view_module": "@jupyter-widgets/base",
            "_view_module_version": "1.2.0",
            "_view_name": "LayoutView",
            "align_content": null,
            "align_items": null,
            "align_self": null,
            "border": null,
            "bottom": null,
            "display": null,
            "flex": null,
            "flex_flow": null,
            "grid_area": null,
            "grid_auto_columns": null,
            "grid_auto_flow": null,
            "grid_auto_rows": null,
            "grid_column": null,
            "grid_gap": null,
            "grid_row": null,
            "grid_template_areas": null,
            "grid_template_columns": null,
            "grid_template_rows": null,
            "height": null,
            "justify_content": null,
            "justify_items": null,
            "left": null,
            "margin": null,
            "max_height": null,
            "max_width": null,
            "min_height": null,
            "min_width": null,
            "object_fit": null,
            "object_position": null,
            "order": null,
            "overflow": null,
            "overflow_x": null,
            "overflow_y": null,
            "padding": null,
            "right": null,
            "top": null,
            "visibility": null,
            "width": null
          }
        },
        "16e44feadc824a3bb7f4ea02d7862c7c": {
          "model_module": "@jupyter-widgets/controls",
          "model_name": "DescriptionStyleModel",
          "model_module_version": "1.5.0",
          "state": {
            "_model_module": "@jupyter-widgets/controls",
            "_model_module_version": "1.5.0",
            "_model_name": "DescriptionStyleModel",
            "_view_count": null,
            "_view_module": "@jupyter-widgets/base",
            "_view_module_version": "1.2.0",
            "_view_name": "StyleView",
            "description_width": ""
          }
        },
        "da18f0a170af40dba3f6e705f7630331": {
          "model_module": "@jupyter-widgets/controls",
          "model_name": "HBoxModel",
          "model_module_version": "1.5.0",
          "state": {
            "_dom_classes": [],
            "_model_module": "@jupyter-widgets/controls",
            "_model_module_version": "1.5.0",
            "_model_name": "HBoxModel",
            "_view_count": null,
            "_view_module": "@jupyter-widgets/controls",
            "_view_module_version": "1.5.0",
            "_view_name": "HBoxView",
            "box_style": "",
            "children": [
              "IPY_MODEL_d29c9f3c24aa426b9aa09dd72ca94feb",
              "IPY_MODEL_846f906efdd64aa8931dccb0bed39e33",
              "IPY_MODEL_93a1f7afd7a6479480577404b957dc10"
            ],
            "layout": "IPY_MODEL_9c07a3837b8b40bb8646d43ac510577a"
          }
        },
        "d29c9f3c24aa426b9aa09dd72ca94feb": {
          "model_module": "@jupyter-widgets/controls",
          "model_name": "HTMLModel",
          "model_module_version": "1.5.0",
          "state": {
            "_dom_classes": [],
            "_model_module": "@jupyter-widgets/controls",
            "_model_module_version": "1.5.0",
            "_model_name": "HTMLModel",
            "_view_count": null,
            "_view_module": "@jupyter-widgets/controls",
            "_view_module_version": "1.5.0",
            "_view_name": "HTMLView",
            "description": "",
            "description_tooltip": null,
            "layout": "IPY_MODEL_a95d2e2e4f974a1cbf2a29f27816cafe",
            "placeholder": "​",
            "style": "IPY_MODEL_7d2eeab02002400fa0711e29fbeee6bd",
            "value": "Downloading: 100%"
          }
        },
        "846f906efdd64aa8931dccb0bed39e33": {
          "model_module": "@jupyter-widgets/controls",
          "model_name": "FloatProgressModel",
          "model_module_version": "1.5.0",
          "state": {
            "_dom_classes": [],
            "_model_module": "@jupyter-widgets/controls",
            "_model_module_version": "1.5.0",
            "_model_name": "FloatProgressModel",
            "_view_count": null,
            "_view_module": "@jupyter-widgets/controls",
            "_view_module_version": "1.5.0",
            "_view_name": "ProgressView",
            "bar_style": "success",
            "description": "",
            "description_tooltip": null,
            "layout": "IPY_MODEL_09e9a614b868433e8e3f1865d1ea479c",
            "max": 267844284,
            "min": 0,
            "orientation": "horizontal",
            "style": "IPY_MODEL_ad62aa2efeb34820a29ef4c4326be793",
            "value": 267844284
          }
        },
        "93a1f7afd7a6479480577404b957dc10": {
          "model_module": "@jupyter-widgets/controls",
          "model_name": "HTMLModel",
          "model_module_version": "1.5.0",
          "state": {
            "_dom_classes": [],
            "_model_module": "@jupyter-widgets/controls",
            "_model_module_version": "1.5.0",
            "_model_name": "HTMLModel",
            "_view_count": null,
            "_view_module": "@jupyter-widgets/controls",
            "_view_module_version": "1.5.0",
            "_view_name": "HTMLView",
            "description": "",
            "description_tooltip": null,
            "layout": "IPY_MODEL_6a5c940371ab404593fab5c958755a56",
            "placeholder": "​",
            "style": "IPY_MODEL_1f437de3df3e4997891514b1425810f2",
            "value": " 255M/255M [00:05&lt;00:00, 49.1MB/s]"
          }
        },
        "9c07a3837b8b40bb8646d43ac510577a": {
          "model_module": "@jupyter-widgets/base",
          "model_name": "LayoutModel",
          "model_module_version": "1.2.0",
          "state": {
            "_model_module": "@jupyter-widgets/base",
            "_model_module_version": "1.2.0",
            "_model_name": "LayoutModel",
            "_view_count": null,
            "_view_module": "@jupyter-widgets/base",
            "_view_module_version": "1.2.0",
            "_view_name": "LayoutView",
            "align_content": null,
            "align_items": null,
            "align_self": null,
            "border": null,
            "bottom": null,
            "display": null,
            "flex": null,
            "flex_flow": null,
            "grid_area": null,
            "grid_auto_columns": null,
            "grid_auto_flow": null,
            "grid_auto_rows": null,
            "grid_column": null,
            "grid_gap": null,
            "grid_row": null,
            "grid_template_areas": null,
            "grid_template_columns": null,
            "grid_template_rows": null,
            "height": null,
            "justify_content": null,
            "justify_items": null,
            "left": null,
            "margin": null,
            "max_height": null,
            "max_width": null,
            "min_height": null,
            "min_width": null,
            "object_fit": null,
            "object_position": null,
            "order": null,
            "overflow": null,
            "overflow_x": null,
            "overflow_y": null,
            "padding": null,
            "right": null,
            "top": null,
            "visibility": null,
            "width": null
          }
        },
        "a95d2e2e4f974a1cbf2a29f27816cafe": {
          "model_module": "@jupyter-widgets/base",
          "model_name": "LayoutModel",
          "model_module_version": "1.2.0",
          "state": {
            "_model_module": "@jupyter-widgets/base",
            "_model_module_version": "1.2.0",
            "_model_name": "LayoutModel",
            "_view_count": null,
            "_view_module": "@jupyter-widgets/base",
            "_view_module_version": "1.2.0",
            "_view_name": "LayoutView",
            "align_content": null,
            "align_items": null,
            "align_self": null,
            "border": null,
            "bottom": null,
            "display": null,
            "flex": null,
            "flex_flow": null,
            "grid_area": null,
            "grid_auto_columns": null,
            "grid_auto_flow": null,
            "grid_auto_rows": null,
            "grid_column": null,
            "grid_gap": null,
            "grid_row": null,
            "grid_template_areas": null,
            "grid_template_columns": null,
            "grid_template_rows": null,
            "height": null,
            "justify_content": null,
            "justify_items": null,
            "left": null,
            "margin": null,
            "max_height": null,
            "max_width": null,
            "min_height": null,
            "min_width": null,
            "object_fit": null,
            "object_position": null,
            "order": null,
            "overflow": null,
            "overflow_x": null,
            "overflow_y": null,
            "padding": null,
            "right": null,
            "top": null,
            "visibility": null,
            "width": null
          }
        },
        "7d2eeab02002400fa0711e29fbeee6bd": {
          "model_module": "@jupyter-widgets/controls",
          "model_name": "DescriptionStyleModel",
          "model_module_version": "1.5.0",
          "state": {
            "_model_module": "@jupyter-widgets/controls",
            "_model_module_version": "1.5.0",
            "_model_name": "DescriptionStyleModel",
            "_view_count": null,
            "_view_module": "@jupyter-widgets/base",
            "_view_module_version": "1.2.0",
            "_view_name": "StyleView",
            "description_width": ""
          }
        },
        "09e9a614b868433e8e3f1865d1ea479c": {
          "model_module": "@jupyter-widgets/base",
          "model_name": "LayoutModel",
          "model_module_version": "1.2.0",
          "state": {
            "_model_module": "@jupyter-widgets/base",
            "_model_module_version": "1.2.0",
            "_model_name": "LayoutModel",
            "_view_count": null,
            "_view_module": "@jupyter-widgets/base",
            "_view_module_version": "1.2.0",
            "_view_name": "LayoutView",
            "align_content": null,
            "align_items": null,
            "align_self": null,
            "border": null,
            "bottom": null,
            "display": null,
            "flex": null,
            "flex_flow": null,
            "grid_area": null,
            "grid_auto_columns": null,
            "grid_auto_flow": null,
            "grid_auto_rows": null,
            "grid_column": null,
            "grid_gap": null,
            "grid_row": null,
            "grid_template_areas": null,
            "grid_template_columns": null,
            "grid_template_rows": null,
            "height": null,
            "justify_content": null,
            "justify_items": null,
            "left": null,
            "margin": null,
            "max_height": null,
            "max_width": null,
            "min_height": null,
            "min_width": null,
            "object_fit": null,
            "object_position": null,
            "order": null,
            "overflow": null,
            "overflow_x": null,
            "overflow_y": null,
            "padding": null,
            "right": null,
            "top": null,
            "visibility": null,
            "width": null
          }
        },
        "ad62aa2efeb34820a29ef4c4326be793": {
          "model_module": "@jupyter-widgets/controls",
          "model_name": "ProgressStyleModel",
          "model_module_version": "1.5.0",
          "state": {
            "_model_module": "@jupyter-widgets/controls",
            "_model_module_version": "1.5.0",
            "_model_name": "ProgressStyleModel",
            "_view_count": null,
            "_view_module": "@jupyter-widgets/base",
            "_view_module_version": "1.2.0",
            "_view_name": "StyleView",
            "bar_color": null,
            "description_width": ""
          }
        },
        "6a5c940371ab404593fab5c958755a56": {
          "model_module": "@jupyter-widgets/base",
          "model_name": "LayoutModel",
          "model_module_version": "1.2.0",
          "state": {
            "_model_module": "@jupyter-widgets/base",
            "_model_module_version": "1.2.0",
            "_model_name": "LayoutModel",
            "_view_count": null,
            "_view_module": "@jupyter-widgets/base",
            "_view_module_version": "1.2.0",
            "_view_name": "LayoutView",
            "align_content": null,
            "align_items": null,
            "align_self": null,
            "border": null,
            "bottom": null,
            "display": null,
            "flex": null,
            "flex_flow": null,
            "grid_area": null,
            "grid_auto_columns": null,
            "grid_auto_flow": null,
            "grid_auto_rows": null,
            "grid_column": null,
            "grid_gap": null,
            "grid_row": null,
            "grid_template_areas": null,
            "grid_template_columns": null,
            "grid_template_rows": null,
            "height": null,
            "justify_content": null,
            "justify_items": null,
            "left": null,
            "margin": null,
            "max_height": null,
            "max_width": null,
            "min_height": null,
            "min_width": null,
            "object_fit": null,
            "object_position": null,
            "order": null,
            "overflow": null,
            "overflow_x": null,
            "overflow_y": null,
            "padding": null,
            "right": null,
            "top": null,
            "visibility": null,
            "width": null
          }
        },
        "1f437de3df3e4997891514b1425810f2": {
          "model_module": "@jupyter-widgets/controls",
          "model_name": "DescriptionStyleModel",
          "model_module_version": "1.5.0",
          "state": {
            "_model_module": "@jupyter-widgets/controls",
            "_model_module_version": "1.5.0",
            "_model_name": "DescriptionStyleModel",
            "_view_count": null,
            "_view_module": "@jupyter-widgets/base",
            "_view_module_version": "1.2.0",
            "_view_name": "StyleView",
            "description_width": ""
          }
        },
        "0e6c4b495b9b43c0bdf382c7082ee2a0": {
          "model_module": "@jupyter-widgets/controls",
          "model_name": "HBoxModel",
          "model_module_version": "1.5.0",
          "state": {
            "_dom_classes": [],
            "_model_module": "@jupyter-widgets/controls",
            "_model_module_version": "1.5.0",
            "_model_name": "HBoxModel",
            "_view_count": null,
            "_view_module": "@jupyter-widgets/controls",
            "_view_module_version": "1.5.0",
            "_view_name": "HBoxView",
            "box_style": "",
            "children": [
              "IPY_MODEL_019c2eeb792d4c1eb1bebf0375f62422",
              "IPY_MODEL_b3fba3a26a974c8e8652cfa8c3d7d4e0",
              "IPY_MODEL_6ef277bde36849d883c68cc5c97c8771"
            ],
            "layout": "IPY_MODEL_ce8eb718908b45ebbd33700dae725105"
          }
        },
        "019c2eeb792d4c1eb1bebf0375f62422": {
          "model_module": "@jupyter-widgets/controls",
          "model_name": "HTMLModel",
          "model_module_version": "1.5.0",
          "state": {
            "_dom_classes": [],
            "_model_module": "@jupyter-widgets/controls",
            "_model_module_version": "1.5.0",
            "_model_name": "HTMLModel",
            "_view_count": null,
            "_view_module": "@jupyter-widgets/controls",
            "_view_module_version": "1.5.0",
            "_view_name": "HTMLView",
            "description": "",
            "description_tooltip": null,
            "layout": "IPY_MODEL_0b3a260674cb4e2199ee3c58bd910cf0",
            "placeholder": "​",
            "style": "IPY_MODEL_e2977668b50e45d1adb82f4a1f1b9e83",
            "value": "Downloading: 100%"
          }
        },
        "b3fba3a26a974c8e8652cfa8c3d7d4e0": {
          "model_module": "@jupyter-widgets/controls",
          "model_name": "FloatProgressModel",
          "model_module_version": "1.5.0",
          "state": {
            "_dom_classes": [],
            "_model_module": "@jupyter-widgets/controls",
            "_model_module_version": "1.5.0",
            "_model_name": "FloatProgressModel",
            "_view_count": null,
            "_view_module": "@jupyter-widgets/controls",
            "_view_module_version": "1.5.0",
            "_view_name": "ProgressView",
            "bar_style": "success",
            "description": "",
            "description_tooltip": null,
            "layout": "IPY_MODEL_0ce48b22f1674e3dba0160bec3cbd90c",
            "max": 48,
            "min": 0,
            "orientation": "horizontal",
            "style": "IPY_MODEL_8b346ae8a6e8413899c02fe17def0916",
            "value": 48
          }
        },
        "6ef277bde36849d883c68cc5c97c8771": {
          "model_module": "@jupyter-widgets/controls",
          "model_name": "HTMLModel",
          "model_module_version": "1.5.0",
          "state": {
            "_dom_classes": [],
            "_model_module": "@jupyter-widgets/controls",
            "_model_module_version": "1.5.0",
            "_model_name": "HTMLModel",
            "_view_count": null,
            "_view_module": "@jupyter-widgets/controls",
            "_view_module_version": "1.5.0",
            "_view_name": "HTMLView",
            "description": "",
            "description_tooltip": null,
            "layout": "IPY_MODEL_22e820fa339948439c9bd8541579881a",
            "placeholder": "​",
            "style": "IPY_MODEL_4416174849fc442389d0b521603ecf18",
            "value": " 48.0/48.0 [00:00&lt;00:00, 1.09kB/s]"
          }
        },
        "ce8eb718908b45ebbd33700dae725105": {
          "model_module": "@jupyter-widgets/base",
          "model_name": "LayoutModel",
          "model_module_version": "1.2.0",
          "state": {
            "_model_module": "@jupyter-widgets/base",
            "_model_module_version": "1.2.0",
            "_model_name": "LayoutModel",
            "_view_count": null,
            "_view_module": "@jupyter-widgets/base",
            "_view_module_version": "1.2.0",
            "_view_name": "LayoutView",
            "align_content": null,
            "align_items": null,
            "align_self": null,
            "border": null,
            "bottom": null,
            "display": null,
            "flex": null,
            "flex_flow": null,
            "grid_area": null,
            "grid_auto_columns": null,
            "grid_auto_flow": null,
            "grid_auto_rows": null,
            "grid_column": null,
            "grid_gap": null,
            "grid_row": null,
            "grid_template_areas": null,
            "grid_template_columns": null,
            "grid_template_rows": null,
            "height": null,
            "justify_content": null,
            "justify_items": null,
            "left": null,
            "margin": null,
            "max_height": null,
            "max_width": null,
            "min_height": null,
            "min_width": null,
            "object_fit": null,
            "object_position": null,
            "order": null,
            "overflow": null,
            "overflow_x": null,
            "overflow_y": null,
            "padding": null,
            "right": null,
            "top": null,
            "visibility": null,
            "width": null
          }
        },
        "0b3a260674cb4e2199ee3c58bd910cf0": {
          "model_module": "@jupyter-widgets/base",
          "model_name": "LayoutModel",
          "model_module_version": "1.2.0",
          "state": {
            "_model_module": "@jupyter-widgets/base",
            "_model_module_version": "1.2.0",
            "_model_name": "LayoutModel",
            "_view_count": null,
            "_view_module": "@jupyter-widgets/base",
            "_view_module_version": "1.2.0",
            "_view_name": "LayoutView",
            "align_content": null,
            "align_items": null,
            "align_self": null,
            "border": null,
            "bottom": null,
            "display": null,
            "flex": null,
            "flex_flow": null,
            "grid_area": null,
            "grid_auto_columns": null,
            "grid_auto_flow": null,
            "grid_auto_rows": null,
            "grid_column": null,
            "grid_gap": null,
            "grid_row": null,
            "grid_template_areas": null,
            "grid_template_columns": null,
            "grid_template_rows": null,
            "height": null,
            "justify_content": null,
            "justify_items": null,
            "left": null,
            "margin": null,
            "max_height": null,
            "max_width": null,
            "min_height": null,
            "min_width": null,
            "object_fit": null,
            "object_position": null,
            "order": null,
            "overflow": null,
            "overflow_x": null,
            "overflow_y": null,
            "padding": null,
            "right": null,
            "top": null,
            "visibility": null,
            "width": null
          }
        },
        "e2977668b50e45d1adb82f4a1f1b9e83": {
          "model_module": "@jupyter-widgets/controls",
          "model_name": "DescriptionStyleModel",
          "model_module_version": "1.5.0",
          "state": {
            "_model_module": "@jupyter-widgets/controls",
            "_model_module_version": "1.5.0",
            "_model_name": "DescriptionStyleModel",
            "_view_count": null,
            "_view_module": "@jupyter-widgets/base",
            "_view_module_version": "1.2.0",
            "_view_name": "StyleView",
            "description_width": ""
          }
        },
        "0ce48b22f1674e3dba0160bec3cbd90c": {
          "model_module": "@jupyter-widgets/base",
          "model_name": "LayoutModel",
          "model_module_version": "1.2.0",
          "state": {
            "_model_module": "@jupyter-widgets/base",
            "_model_module_version": "1.2.0",
            "_model_name": "LayoutModel",
            "_view_count": null,
            "_view_module": "@jupyter-widgets/base",
            "_view_module_version": "1.2.0",
            "_view_name": "LayoutView",
            "align_content": null,
            "align_items": null,
            "align_self": null,
            "border": null,
            "bottom": null,
            "display": null,
            "flex": null,
            "flex_flow": null,
            "grid_area": null,
            "grid_auto_columns": null,
            "grid_auto_flow": null,
            "grid_auto_rows": null,
            "grid_column": null,
            "grid_gap": null,
            "grid_row": null,
            "grid_template_areas": null,
            "grid_template_columns": null,
            "grid_template_rows": null,
            "height": null,
            "justify_content": null,
            "justify_items": null,
            "left": null,
            "margin": null,
            "max_height": null,
            "max_width": null,
            "min_height": null,
            "min_width": null,
            "object_fit": null,
            "object_position": null,
            "order": null,
            "overflow": null,
            "overflow_x": null,
            "overflow_y": null,
            "padding": null,
            "right": null,
            "top": null,
            "visibility": null,
            "width": null
          }
        },
        "8b346ae8a6e8413899c02fe17def0916": {
          "model_module": "@jupyter-widgets/controls",
          "model_name": "ProgressStyleModel",
          "model_module_version": "1.5.0",
          "state": {
            "_model_module": "@jupyter-widgets/controls",
            "_model_module_version": "1.5.0",
            "_model_name": "ProgressStyleModel",
            "_view_count": null,
            "_view_module": "@jupyter-widgets/base",
            "_view_module_version": "1.2.0",
            "_view_name": "StyleView",
            "bar_color": null,
            "description_width": ""
          }
        },
        "22e820fa339948439c9bd8541579881a": {
          "model_module": "@jupyter-widgets/base",
          "model_name": "LayoutModel",
          "model_module_version": "1.2.0",
          "state": {
            "_model_module": "@jupyter-widgets/base",
            "_model_module_version": "1.2.0",
            "_model_name": "LayoutModel",
            "_view_count": null,
            "_view_module": "@jupyter-widgets/base",
            "_view_module_version": "1.2.0",
            "_view_name": "LayoutView",
            "align_content": null,
            "align_items": null,
            "align_self": null,
            "border": null,
            "bottom": null,
            "display": null,
            "flex": null,
            "flex_flow": null,
            "grid_area": null,
            "grid_auto_columns": null,
            "grid_auto_flow": null,
            "grid_auto_rows": null,
            "grid_column": null,
            "grid_gap": null,
            "grid_row": null,
            "grid_template_areas": null,
            "grid_template_columns": null,
            "grid_template_rows": null,
            "height": null,
            "justify_content": null,
            "justify_items": null,
            "left": null,
            "margin": null,
            "max_height": null,
            "max_width": null,
            "min_height": null,
            "min_width": null,
            "object_fit": null,
            "object_position": null,
            "order": null,
            "overflow": null,
            "overflow_x": null,
            "overflow_y": null,
            "padding": null,
            "right": null,
            "top": null,
            "visibility": null,
            "width": null
          }
        },
        "4416174849fc442389d0b521603ecf18": {
          "model_module": "@jupyter-widgets/controls",
          "model_name": "DescriptionStyleModel",
          "model_module_version": "1.5.0",
          "state": {
            "_model_module": "@jupyter-widgets/controls",
            "_model_module_version": "1.5.0",
            "_model_name": "DescriptionStyleModel",
            "_view_count": null,
            "_view_module": "@jupyter-widgets/base",
            "_view_module_version": "1.2.0",
            "_view_name": "StyleView",
            "description_width": ""
          }
        },
        "5c07e7aeb56040e3bc9f201c0f85ca1c": {
          "model_module": "@jupyter-widgets/controls",
          "model_name": "HBoxModel",
          "model_module_version": "1.5.0",
          "state": {
            "_dom_classes": [],
            "_model_module": "@jupyter-widgets/controls",
            "_model_module_version": "1.5.0",
            "_model_name": "HBoxModel",
            "_view_count": null,
            "_view_module": "@jupyter-widgets/controls",
            "_view_module_version": "1.5.0",
            "_view_name": "HBoxView",
            "box_style": "",
            "children": [
              "IPY_MODEL_b926c54f862a453cb6e45c0eb4ce78a6",
              "IPY_MODEL_2d0bffecf26a4d039fefa06fca14591a",
              "IPY_MODEL_3cf692168d9a47f4a0f49dfe95688f0e"
            ],
            "layout": "IPY_MODEL_e8c64638244b4ab4bb333866082bdf47"
          }
        },
        "b926c54f862a453cb6e45c0eb4ce78a6": {
          "model_module": "@jupyter-widgets/controls",
          "model_name": "HTMLModel",
          "model_module_version": "1.5.0",
          "state": {
            "_dom_classes": [],
            "_model_module": "@jupyter-widgets/controls",
            "_model_module_version": "1.5.0",
            "_model_name": "HTMLModel",
            "_view_count": null,
            "_view_module": "@jupyter-widgets/controls",
            "_view_module_version": "1.5.0",
            "_view_name": "HTMLView",
            "description": "",
            "description_tooltip": null,
            "layout": "IPY_MODEL_d4776c7013f74c329e3a0b4772a468cf",
            "placeholder": "​",
            "style": "IPY_MODEL_9a8a3d1d26124091bc2afa843165dead",
            "value": "Downloading: 100%"
          }
        },
        "2d0bffecf26a4d039fefa06fca14591a": {
          "model_module": "@jupyter-widgets/controls",
          "model_name": "FloatProgressModel",
          "model_module_version": "1.5.0",
          "state": {
            "_dom_classes": [],
            "_model_module": "@jupyter-widgets/controls",
            "_model_module_version": "1.5.0",
            "_model_name": "FloatProgressModel",
            "_view_count": null,
            "_view_module": "@jupyter-widgets/controls",
            "_view_module_version": "1.5.0",
            "_view_name": "ProgressView",
            "bar_style": "success",
            "description": "",
            "description_tooltip": null,
            "layout": "IPY_MODEL_16c377914c544082851c28c31c80c925",
            "max": 231508,
            "min": 0,
            "orientation": "horizontal",
            "style": "IPY_MODEL_d2e061350a7b4be08d310ca150fa0a32",
            "value": 231508
          }
        },
        "3cf692168d9a47f4a0f49dfe95688f0e": {
          "model_module": "@jupyter-widgets/controls",
          "model_name": "HTMLModel",
          "model_module_version": "1.5.0",
          "state": {
            "_dom_classes": [],
            "_model_module": "@jupyter-widgets/controls",
            "_model_module_version": "1.5.0",
            "_model_name": "HTMLModel",
            "_view_count": null,
            "_view_module": "@jupyter-widgets/controls",
            "_view_module_version": "1.5.0",
            "_view_name": "HTMLView",
            "description": "",
            "description_tooltip": null,
            "layout": "IPY_MODEL_6425f4a670954938bf874b1d29652031",
            "placeholder": "​",
            "style": "IPY_MODEL_86defc8bf2674c2b8f96add43f2268f0",
            "value": " 226k/226k [00:00&lt;00:00, 1.81MB/s]"
          }
        },
        "e8c64638244b4ab4bb333866082bdf47": {
          "model_module": "@jupyter-widgets/base",
          "model_name": "LayoutModel",
          "model_module_version": "1.2.0",
          "state": {
            "_model_module": "@jupyter-widgets/base",
            "_model_module_version": "1.2.0",
            "_model_name": "LayoutModel",
            "_view_count": null,
            "_view_module": "@jupyter-widgets/base",
            "_view_module_version": "1.2.0",
            "_view_name": "LayoutView",
            "align_content": null,
            "align_items": null,
            "align_self": null,
            "border": null,
            "bottom": null,
            "display": null,
            "flex": null,
            "flex_flow": null,
            "grid_area": null,
            "grid_auto_columns": null,
            "grid_auto_flow": null,
            "grid_auto_rows": null,
            "grid_column": null,
            "grid_gap": null,
            "grid_row": null,
            "grid_template_areas": null,
            "grid_template_columns": null,
            "grid_template_rows": null,
            "height": null,
            "justify_content": null,
            "justify_items": null,
            "left": null,
            "margin": null,
            "max_height": null,
            "max_width": null,
            "min_height": null,
            "min_width": null,
            "object_fit": null,
            "object_position": null,
            "order": null,
            "overflow": null,
            "overflow_x": null,
            "overflow_y": null,
            "padding": null,
            "right": null,
            "top": null,
            "visibility": null,
            "width": null
          }
        },
        "d4776c7013f74c329e3a0b4772a468cf": {
          "model_module": "@jupyter-widgets/base",
          "model_name": "LayoutModel",
          "model_module_version": "1.2.0",
          "state": {
            "_model_module": "@jupyter-widgets/base",
            "_model_module_version": "1.2.0",
            "_model_name": "LayoutModel",
            "_view_count": null,
            "_view_module": "@jupyter-widgets/base",
            "_view_module_version": "1.2.0",
            "_view_name": "LayoutView",
            "align_content": null,
            "align_items": null,
            "align_self": null,
            "border": null,
            "bottom": null,
            "display": null,
            "flex": null,
            "flex_flow": null,
            "grid_area": null,
            "grid_auto_columns": null,
            "grid_auto_flow": null,
            "grid_auto_rows": null,
            "grid_column": null,
            "grid_gap": null,
            "grid_row": null,
            "grid_template_areas": null,
            "grid_template_columns": null,
            "grid_template_rows": null,
            "height": null,
            "justify_content": null,
            "justify_items": null,
            "left": null,
            "margin": null,
            "max_height": null,
            "max_width": null,
            "min_height": null,
            "min_width": null,
            "object_fit": null,
            "object_position": null,
            "order": null,
            "overflow": null,
            "overflow_x": null,
            "overflow_y": null,
            "padding": null,
            "right": null,
            "top": null,
            "visibility": null,
            "width": null
          }
        },
        "9a8a3d1d26124091bc2afa843165dead": {
          "model_module": "@jupyter-widgets/controls",
          "model_name": "DescriptionStyleModel",
          "model_module_version": "1.5.0",
          "state": {
            "_model_module": "@jupyter-widgets/controls",
            "_model_module_version": "1.5.0",
            "_model_name": "DescriptionStyleModel",
            "_view_count": null,
            "_view_module": "@jupyter-widgets/base",
            "_view_module_version": "1.2.0",
            "_view_name": "StyleView",
            "description_width": ""
          }
        },
        "16c377914c544082851c28c31c80c925": {
          "model_module": "@jupyter-widgets/base",
          "model_name": "LayoutModel",
          "model_module_version": "1.2.0",
          "state": {
            "_model_module": "@jupyter-widgets/base",
            "_model_module_version": "1.2.0",
            "_model_name": "LayoutModel",
            "_view_count": null,
            "_view_module": "@jupyter-widgets/base",
            "_view_module_version": "1.2.0",
            "_view_name": "LayoutView",
            "align_content": null,
            "align_items": null,
            "align_self": null,
            "border": null,
            "bottom": null,
            "display": null,
            "flex": null,
            "flex_flow": null,
            "grid_area": null,
            "grid_auto_columns": null,
            "grid_auto_flow": null,
            "grid_auto_rows": null,
            "grid_column": null,
            "grid_gap": null,
            "grid_row": null,
            "grid_template_areas": null,
            "grid_template_columns": null,
            "grid_template_rows": null,
            "height": null,
            "justify_content": null,
            "justify_items": null,
            "left": null,
            "margin": null,
            "max_height": null,
            "max_width": null,
            "min_height": null,
            "min_width": null,
            "object_fit": null,
            "object_position": null,
            "order": null,
            "overflow": null,
            "overflow_x": null,
            "overflow_y": null,
            "padding": null,
            "right": null,
            "top": null,
            "visibility": null,
            "width": null
          }
        },
        "d2e061350a7b4be08d310ca150fa0a32": {
          "model_module": "@jupyter-widgets/controls",
          "model_name": "ProgressStyleModel",
          "model_module_version": "1.5.0",
          "state": {
            "_model_module": "@jupyter-widgets/controls",
            "_model_module_version": "1.5.0",
            "_model_name": "ProgressStyleModel",
            "_view_count": null,
            "_view_module": "@jupyter-widgets/base",
            "_view_module_version": "1.2.0",
            "_view_name": "StyleView",
            "bar_color": null,
            "description_width": ""
          }
        },
        "6425f4a670954938bf874b1d29652031": {
          "model_module": "@jupyter-widgets/base",
          "model_name": "LayoutModel",
          "model_module_version": "1.2.0",
          "state": {
            "_model_module": "@jupyter-widgets/base",
            "_model_module_version": "1.2.0",
            "_model_name": "LayoutModel",
            "_view_count": null,
            "_view_module": "@jupyter-widgets/base",
            "_view_module_version": "1.2.0",
            "_view_name": "LayoutView",
            "align_content": null,
            "align_items": null,
            "align_self": null,
            "border": null,
            "bottom": null,
            "display": null,
            "flex": null,
            "flex_flow": null,
            "grid_area": null,
            "grid_auto_columns": null,
            "grid_auto_flow": null,
            "grid_auto_rows": null,
            "grid_column": null,
            "grid_gap": null,
            "grid_row": null,
            "grid_template_areas": null,
            "grid_template_columns": null,
            "grid_template_rows": null,
            "height": null,
            "justify_content": null,
            "justify_items": null,
            "left": null,
            "margin": null,
            "max_height": null,
            "max_width": null,
            "min_height": null,
            "min_width": null,
            "object_fit": null,
            "object_position": null,
            "order": null,
            "overflow": null,
            "overflow_x": null,
            "overflow_y": null,
            "padding": null,
            "right": null,
            "top": null,
            "visibility": null,
            "width": null
          }
        },
        "86defc8bf2674c2b8f96add43f2268f0": {
          "model_module": "@jupyter-widgets/controls",
          "model_name": "DescriptionStyleModel",
          "model_module_version": "1.5.0",
          "state": {
            "_model_module": "@jupyter-widgets/controls",
            "_model_module_version": "1.5.0",
            "_model_name": "DescriptionStyleModel",
            "_view_count": null,
            "_view_module": "@jupyter-widgets/base",
            "_view_module_version": "1.2.0",
            "_view_name": "StyleView",
            "description_width": ""
          }
        }
      }
    }
  },
  "nbformat": 4,
  "nbformat_minor": 0
}